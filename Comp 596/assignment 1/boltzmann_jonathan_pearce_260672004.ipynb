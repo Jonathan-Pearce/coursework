{
  "nbformat": 4,
  "nbformat_minor": 0,
  "metadata": {
    "kernelspec": {
      "display_name": "Python 3",
      "language": "python",
      "name": "python3"
    },
    "language_info": {
      "codemirror_mode": {
        "name": "ipython",
        "version": 3
      },
      "file_extension": ".py",
      "mimetype": "text/x-python",
      "name": "python",
      "nbconvert_exporter": "python",
      "pygments_lexer": "ipython3",
      "version": "3.6.8"
    },
    "colab": {
      "name": "boltzmann_jonathan_pearce_260672004.ipynb",
      "provenance": [],
      "collapsed_sections": []
    }
  },
  "cells": [
    {
      "cell_type": "code",
      "metadata": {
        "id": "U7NcFCddOMpR",
        "colab_type": "code",
        "colab": {}
      },
      "source": [
        "import numpy as np\n",
        "import random\n",
        "import matplotlib.pyplot as plt\n",
        "import pickle, gzip, urllib.request, json"
      ],
      "execution_count": 0,
      "outputs": []
    },
    {
      "cell_type": "code",
      "metadata": {
        "id": "VO6MoVfgOMpZ",
        "colab_type": "code",
        "colab": {}
      },
      "source": [
        "#To ensure reproducibility\n",
        "random.seed(11)\n",
        "np.random.seed(11)"
      ],
      "execution_count": 0,
      "outputs": []
    },
    {
      "cell_type": "code",
      "metadata": {
        "id": "Igfzt0zFOMpe",
        "colab_type": "code",
        "outputId": "4e231f68-65c4-4e8a-bcbf-51dbd9465449",
        "colab": {
          "base_uri": "https://localhost:8080/",
          "height": 85
        }
      },
      "source": [
        "# Load the dataset\n",
        "urllib.request.urlretrieve(\"http://deeplearning.net/data/mnist/mnist.pkl.gz\", \"mnist.pkl.gz\")\n",
        "with gzip.open('mnist.pkl.gz', 'rb') as f:\n",
        "    train_set, valid_set, test_set = pickle.load(f, encoding='latin1')\n",
        "    \n",
        "train_images = train_set[0]\n",
        "#make images binary\n",
        "train_images = (train_images > 0.5)\n",
        "train_labels = train_set[1]\n",
        "\n",
        "test_images = test_set[0]\n",
        "#make images binary\n",
        "test_images = (test_images > 0.5)\n",
        "test_labels = test_set[1]\n",
        "\n",
        "# Check that we have the expected shape of arrays, should be (50000, 784), (50000,), (10000, 784), (10000,)\n",
        "print(train_images.shape)\n",
        "print(train_labels.shape)\n",
        "\n",
        "print(test_images.shape)\n",
        "print(test_labels.shape)"
      ],
      "execution_count": 3,
      "outputs": [
        {
          "output_type": "stream",
          "text": [
            "(50000, 784)\n",
            "(50000,)\n",
            "(10000, 784)\n",
            "(10000,)\n"
          ],
          "name": "stdout"
        }
      ]
    },
    {
      "cell_type": "code",
      "metadata": {
        "id": "k-gnbMwPJUQE",
        "colab_type": "code",
        "outputId": "e7121c1d-2b64-4a4a-8d28-9ea141c71885",
        "colab": {
          "base_uri": "https://localhost:8080/",
          "height": 315
        }
      },
      "source": [
        "#Plot the first training image and label\n",
        "for i in range(1):\n",
        "    train_sample1 = train_images[i,:]\n",
        "    train_sample1 = train_sample1.reshape((28, 28))\n",
        "    label = train_labels[i]\n",
        "    print(train_sample1.shape)\n",
        "    print(label)\n",
        "\n",
        "    plt.title('Label is {label}'.format(label=label))\n",
        "    plt.imshow(train_sample1, cmap='gray')\n",
        "    plt.show()"
      ],
      "execution_count": 4,
      "outputs": [
        {
          "output_type": "stream",
          "text": [
            "(28, 28)\n",
            "5\n"
          ],
          "name": "stdout"
        },
        {
          "output_type": "display_data",
          "data": {
            "image/png": "[encoded data removed]",
            "text/plain": [
              "<Figure size 432x288 with 1 Axes>"
            ]
          },
          "metadata": {
            "tags": []
          }
        }
      ]
    },
    {
      "cell_type": "code",
      "metadata": {
        "id": "8mbc55xKUCag",
        "colab_type": "code",
        "colab": {}
      },
      "source": [
        "class boltzmann_machine(object):\n",
        "    \"\"\"\n",
        "    Define a class for a boltzmann machine here.\n",
        "    You must also define the functions below, but you can add additional arguments, etc.\n",
        "    Also, note that you are welcome to write your own helper functions. \n",
        "    Reminder: you should use numpy functions for vector and matrix operations. No autograd!\n",
        "    \"\"\"\n",
        "    \n",
        "    #The initialization function for the boltzmann machine\n",
        "    def __init__(self,hidden_units,learning_rate,schedule,tempurature):\n",
        "        #ensures results are reproducible\n",
        "        random.seed(596)\n",
        "        np.random.seed(596)\n",
        "\n",
        "        #number of hidden units\n",
        "        self.h = hidden_units\n",
        "        #number of visible units\n",
        "        self.v = 28*28\n",
        "        #number of units\n",
        "        self.n = self.h + self.v\n",
        "        #learning rate\n",
        "        self.learn_rate = learning_rate\n",
        "        #annealing schedule (Number of iterations at each schedule index)\n",
        "        self.schedule = schedule\n",
        "        #annealing schedule (Tempurature at each schedule index)\n",
        "        self.tempurature = tempurature\n",
        "        #current activation state for all units\n",
        "        #this is randomly reset every time we run gibbs sampling\n",
        "        self.a = np.random.randint(2, size=self.n)\n",
        "        #Threshold term for all units\n",
        "        #These value are learned during training\n",
        "        self.threshold = np.random.normal(0,1,self.n)\n",
        "        #Weights for all units connectivity \n",
        "        #These values are learned during training\n",
        "        self.W = np.random.normal(0,1,(self.n,self.n))\n",
        "        #Weight matrix needs to be symmetric!\n",
        "        self.W = (self.W + self.W.T)/2\n",
        "        #W_ii = 0 for all i\n",
        "        #Therefore all diagonal elements in weight matrix set to 0 \n",
        "        np.fill_diagonal(self.W, 0)\n",
        "        #W_(v_i,v_j) = 0 for all v_i,v_j (Visible units do not connect to each other)\n",
        "        #Therefore bottom right block of weight matrix set to zero (see Question 1.1 for visual)\n",
        "        self.W[self.h:,self.h:] = 0\n",
        "        #The average activation of every unit during the dream phase\n",
        "        #This term is used in calculating the loss\n",
        "        self.activation_minus = np.zeros(self.n) \n",
        "    \n",
        "    #The function for Gibbs sampling\n",
        "    def gibbs(self,num_units):\n",
        "        #Activation data\n",
        "        #This will store the average activation for each unit across all iterations after burn-in\n",
        "        act_data = np.zeros(self.n)\n",
        "        #Co-activation data\n",
        "        #This will store the average co-activation for each pair of units across all iterations after burn in\n",
        "        co_data = np.zeros([self.n,self.n])\n",
        "        #Temporary matrix, helps speed up the computation of co_data\n",
        "        #Stores the co-activation for each pair of units in the current iteration\n",
        "        temp_data = np.zeros([self.n,self.n])\n",
        "\n",
        "        #Iterate through schedule\n",
        "        for i in range(len(self.schedule)):\n",
        "            #Iterate for length specified by schedule entry and number of units allowed to change \n",
        "            #num_units = self.h => we are in awake phase\n",
        "            #num_units = self.n => we are in dream phase\n",
        "            for j in range(int(self.schedule[i]*num_units)):\n",
        "                #select neuron at random (from eligble neurons)\n",
        "                neuron = np.random.randint(num_units)\n",
        "                #Update neuron's activation with current annealing tempurature via stochastic activation \n",
        "                self.activation_function(neuron,self.tempurature[i])\n",
        "\n",
        "                #If we are done our burn-in\n",
        "                #Equivilantly we are on the last entry in the schedule\n",
        "                #This is when we want to collect co-activation and activation data!\n",
        "                if i == (len(self.tempurature)-1):\n",
        "                    #First time collecting co-activation data we need to explicitly compute the outer product\n",
        "                    if j == 0:\n",
        "                        temp_data = np.outer(self.a,self.a)\n",
        "                    #After the first time collecting co-activation data we DO NOT need to compute the full outer product\n",
        "                    #Becuase only one activation changed, only one row and column in the co-activation matrix has changed\n",
        "                    #Therefore we can simply update the row and column of the selected neuron and save a bit of time!\n",
        "                    else:\n",
        "                        #If neuron has been set to 1\n",
        "                        #row and column should be the activation vector\n",
        "                        if self.a[neuron] == 1:\n",
        "                            temp_data[neuron,:] = self.a\n",
        "                            temp_data[:,neuron] = self.a\n",
        "                        #If neuron has been set to 0\n",
        "                        #row and column should be the zero vector\n",
        "                        else:\n",
        "                            temp_data[neuron,:] = 0\n",
        "                            temp_data[:,neuron] = 0\n",
        "                    \n",
        "                    #Update co-activation data\n",
        "                    co_data = np.add(co_data,temp_data)\n",
        "                    #Update activation data\n",
        "                    act_data = np.add(act_data,self.a)\n",
        "                \n",
        "        #Divide co-activation and activation data by the number of times we collected data\n",
        "        #This scales every entry to be in [0,1]\n",
        "        co_data = np.divide(co_data,int(self.schedule[-1]*num_units))\n",
        "        act_data = np.divide(act_data,int(self.schedule[-1]*num_units))\n",
        "        #return data from gibbs sampling\n",
        "        return co_data, act_data\n",
        "    \n",
        "    #The function for training the boltzmann machine\n",
        "    def train(self,train_images,epoch_i):\n",
        "        #Keep track of average image loss in this epoch\n",
        "        L = 0\n",
        "        #Run Dream Phase for Epoch i (does not require training images)\n",
        "        print('Running dream phase')\n",
        "        co_activation_minus, self.activation_minus = self.dream()\n",
        "        #Run Wake Phase (requires training images)\n",
        "        print('Running wake phase')\n",
        "        #Iterate through each image once on average and update weights\n",
        "        for i in range(len(train_images)):\n",
        "            #Randomly select an image\n",
        "            index = np.random.randint(len(train_images))\n",
        "            image = train_images[index]\n",
        "            #collect data on that image \n",
        "            co_activation_plus, activation_plus = self.awake(image)\n",
        "            #Compute update for weights and thresholds\n",
        "            self.weight_update(co_activation_plus, activation_plus,co_activation_minus, self.activation_minus)\n",
        "            #calculate and update average image loss (requires training image and activation data from dream phase)\n",
        "            L += (self.loss_function(image,self.activation_minus))/len(train_images)\n",
        "        #print average training loss per image during epoch\n",
        "        print('Average training loss per image at Epoch',epoch_i,':', L) \n",
        "\n",
        "    # The function for testing the boltzmann machine\n",
        "    def test(self,test_images,epoch):\n",
        "        #Keep track of average image loss in this epoch\n",
        "        L = 0\n",
        "        #loop through all test images\n",
        "        for i in range(len(test_images)):\n",
        "            image = test_images[i]\n",
        "            #calculate the loss on the test image using activation data from dream phase\n",
        "            #update average image loss\n",
        "            L += self.loss_function(image,self.activation_minus)/len(test_images)\n",
        "        #print average image loss on test images during epoch\n",
        "        print('Average testing loss per image at Epoch',epoch,':', L)\n",
        "        print('\\n')\n",
        "    \n",
        "    #The function for testing the boltzmann machine\n",
        "    #def test(self):\n",
        "    #renamed this function!\n",
        "    def test_generate_images(self,number_images_generate):\n",
        "        #This will store the images\n",
        "        images = np.zeros([number_images_generate,self.v])\n",
        "        #Iterate for number of images to generate\n",
        "        for i in range(number_images_generate):\n",
        "            #randomly initialize activation vector\n",
        "            self.a[0:self.n] = np.random.randint(2, size=self.n)\n",
        "            #run gibbs sampling\n",
        "            #allow all n units to change activation values\n",
        "            self.gibbs(self.n)\n",
        "            #After gibbs sampling the image is just the activation on all the visible units \n",
        "            images[i,:] = self.a[self.h:]\n",
        "        #return generated images\n",
        "        return images\n",
        "\n",
        "    ####Helper functions below#######\n",
        "\n",
        "    #Stochastic activation function \n",
        "    #determines what activation to assign a specified neuron\n",
        "    def activation_function(self,i,temp): \n",
        "        #Compute weights on connections coming from other active units (via dot product of matrix row and activation vector)\n",
        "        #add neuron i's threshold term\n",
        "        z = np.dot(self.W[i,:], self.a[:]) + self.threshold[i]\n",
        "        \n",
        "        #Calculate probability of activation for unit i according to equation in slides\n",
        "        prob = 1.0/(1 + np.exp(-z/temp))\n",
        "\n",
        "        #Using probability of activation, stochastically determine whether neuron should be activated or not\n",
        "        #and update activation vector accordingly\n",
        "        if prob > np.random.random_sample():\n",
        "            self.a[i] = 1\n",
        "        else:\n",
        "            self.a[i] = 0\n",
        "\n",
        "    #Awake phase\n",
        "    def awake(self,image):\n",
        "        #Clamp pixel values to activations for visible units\n",
        "        #These will NOT change during gibbs sampling\n",
        "        self.a[self.h:] = image\n",
        "        #set activations randomly for hidden units\n",
        "        #These CAN change during gibbs sampling\n",
        "        self.a[0:self.h] = np.random.randint(2, size=self.h)\n",
        "        #run gibbs sampling\n",
        "        #allow only hidden units to change activation values\n",
        "        return self.gibbs(self.h)\n",
        "\n",
        "\n",
        "    #Dream phase\n",
        "    def dream(self):\n",
        "        #randomly initialize activation vector\n",
        "        #These CAN change in gibbs sampling\n",
        "        self.a[0:self.n] = np.random.randint(2, size=self.n)\n",
        "        #run gibbs sampling\n",
        "        #allow all units to change activation values\n",
        "        #return data from dream phase\n",
        "        return self.gibbs(self.n)\n",
        "\n",
        "    #weight matrix and threshold vector updates\n",
        "    def weight_update(self,co_activation_plus, activation_plus, co_activation_minus, activation_minus):\n",
        "        #calculate weight update using co-activation data from wake and dream phases and learning rate\n",
        "        delta_W = np.multiply((self.learn_rate/self.tempurature[-1]),(np.subtract(co_activation_plus,co_activation_minus)))\n",
        "        #update weight matrix\n",
        "        self.W = np.add(self.W,delta_W)\n",
        "        \n",
        "        #W_ii = 0 for all i\n",
        "        #Therefore all diagonal elements in weight matrix set to 0\n",
        "        np.fill_diagonal(self.W, 0)\n",
        "        #W_(v_i,v_j) = 0 for all v_i,v_j (Visible units do not connect to each other)\n",
        "        #Therefore bottom right block of weight matrix set to zero (see Question 1.1 for visual)\n",
        "        self.W[self.h:,self.h:] = 0\n",
        "\n",
        "        #calculate threshold update using activation data from wake and dream phases and learning rate\n",
        "        delta_threshold = np.multiply((self.learn_rate/self.tempurature[-1]),(np.subtract(activation_plus,activation_minus)))\n",
        "        #update threshold vector\n",
        "        self.threshold = np.add(self.threshold,delta_threshold)\n",
        "\n",
        "    #compute loss on provided images\n",
        "    def loss_function(self,image,activations):\n",
        "        #Because the activation function does not change during loss calculation\n",
        "        #we can pre-compute activation probability for each unit ahead of time\n",
        "        #this makes computing the loss much faster\n",
        "        prob_vector = self.math(activations)\n",
        "        #iterate through each image\n",
        "            \n",
        "        #variable to track loss across all pixels in image\n",
        "        image_loss = 0\n",
        "        #iterate through pixels in image\n",
        "        for j in range(len(image)):\n",
        "            #Compute the probability of each pixel value given the activation probabilities of the hidden units\n",
        "            if image[j] == 1:\n",
        "                prob = prob_vector[self.h+j]\n",
        "            else:\n",
        "                prob = 1-prob_vector[self.h+j]\n",
        "\n",
        "            #avoid any log(0) issues!\n",
        "            if prob < 1e-15:\n",
        "               prob = 1e-15\n",
        "\n",
        "            #add the log probability to the image loss\n",
        "            image_loss += np.log(prob)\n",
        "       \n",
        "        #return negative image loss \n",
        "        return -image_loss\n",
        "\n",
        "    #Helper function\n",
        "    #Speeds up loss calculation\n",
        "    #compute and return vector of activation probabilities for all units\n",
        "    def math(self,activation):\n",
        "        #compute input for all units\n",
        "        z = np.dot(self.W, activation) + self.threshold\n",
        "        #calculate probability of activation for all units\n",
        "        prob = 1.0/(1 + np.exp(-z/self.tempurature[-1]))\n",
        "        #return vector of probabilities\n",
        "        return prob\n",
        "    "
      ],
      "execution_count": 0,
      "outputs": []
    },
    {
      "cell_type": "code",
      "metadata": {
        "id": "4smkM3SjOMp0",
        "colab_type": "code",
        "outputId": "6f11f9e6-d913-4aa6-cae7-4d041a5fba4c",
        "colab": {
          "base_uri": "https://localhost:8080/",
          "height": 884
        }
      },
      "source": [
        "# Create a Boltzmann machine and train it\n",
        "\n",
        "#Boltzmann machine parameters\n",
        "hidden_units = 400\n",
        "learning_rate = 0.001\n",
        "#Annealing schedule and corresponding tempuratures\n",
        "#These need to be the same length\n",
        "#NOTE: we only collect co-activation statistics for 1 iteration at tempurature 1\n",
        "#Please refer to answer for Q2.3 for how we have defined 1 iteration\n",
        "schedule = np.array([2,4,8,49,1])\n",
        "temp = np.array([10,5,2,1,1])\n",
        "\n",
        "#Running the boltzmann machine is a little slow, so just use a subset of images\n",
        "subset_train_images = train_images[0:50]\n",
        "subset_test_images = test_images[0:500]\n",
        "\n",
        "#Number of epochs we want to train Boltzmann machine for\n",
        "training_epochs = 7\n",
        "#number of images we want to generate after training is done\n",
        "number_images_generate = 20\n",
        "\n",
        "#Create boltzmann machine with parameters above\n",
        "bm = boltzmann_machine(hidden_units,learning_rate,schedule,temp,)\n",
        "\n",
        "for i in range(training_epochs):\n",
        "    #train for 1 epoch\n",
        "    print('Starting Epoch',i)\n",
        "    bm.train(subset_train_images,i)\n",
        "    #test at the end of epoch\n",
        "    bm.test(subset_test_images,i)\n",
        "\n",
        "#generate sample images\n",
        "print('Generating',number_images_generate,'Images')\n",
        "images = bm.test_generate_images(number_images_generate)\n",
        "print('Images Generated!')"
      ],
      "execution_count": 6,
      "outputs": [
        {
          "output_type": "stream",
          "text": [
            "Starting Epoch 0\n",
            "Running dream phase\n",
            "Running wake phase\n",
            "Average training loss per image at Epoch 0 : 3149.8032817051153\n",
            "Average testing loss per image at Epoch 0 : 1693.1764484529638\n",
            "\n",
            "\n",
            "Starting Epoch 1\n",
            "Running dream phase\n",
            "Running wake phase\n",
            "Average training loss per image at Epoch 1 : 1806.945039523175\n",
            "Average testing loss per image at Epoch 1 : 1093.781715515355\n",
            "\n",
            "\n",
            "Starting Epoch 2\n",
            "Running dream phase\n",
            "Running wake phase\n",
            "Average training loss per image at Epoch 2 : 1172.6230946127725\n",
            "Average testing loss per image at Epoch 2 : 770.0250489300967\n",
            "\n",
            "\n",
            "Starting Epoch 3\n",
            "Running dream phase\n",
            "Running wake phase\n",
            "Average training loss per image at Epoch 3 : 719.2780264712136\n",
            "Average testing loss per image at Epoch 3 : 612.9823282344964\n",
            "\n",
            "\n",
            "Starting Epoch 4\n",
            "Running dream phase\n",
            "Running wake phase\n",
            "Average training loss per image at Epoch 4 : 609.3961922474188\n",
            "Average testing loss per image at Epoch 4 : 562.6010260078492\n",
            "\n",
            "\n",
            "Starting Epoch 5\n",
            "Running dream phase\n",
            "Running wake phase\n",
            "Average training loss per image at Epoch 5 : 515.0512193341332\n",
            "Average testing loss per image at Epoch 5 : 564.1767705240578\n",
            "\n",
            "\n",
            "Starting Epoch 6\n",
            "Running dream phase\n",
            "Running wake phase\n",
            "Average training loss per image at Epoch 6 : 448.60724878614474\n",
            "Average testing loss per image at Epoch 6 : 540.6873733576367\n",
            "\n",
            "\n",
            "Generating 20 Images\n",
            "Images Generated!\n"
          ],
          "name": "stdout"
        }
      ]
    },
    {
      "cell_type": "code",
      "metadata": {
        "id": "qG0Vf_p5OMp5",
        "colab_type": "code",
        "outputId": "08f7d75b-f62d-4bee-b17a-4b4406eae17c",
        "colab": {
          "base_uri": "https://localhost:8080/",
          "height": 1000
        }
      },
      "source": [
        "#Display generated images from Boltzmann machine\n",
        "for i in range(len(images)):\n",
        "    train_sample1 = images[i,:]\n",
        "    train_sample1 = train_sample1.reshape((28, 28))\n",
        "    print(train_sample1.shape)\n",
        "\n",
        "    plt.imshow(train_sample1, cmap='gray')\n",
        "    plt.show()"
      ],
      "execution_count": 7,
      "outputs": [
        {
          "output_type": "stream",
          "text": [
            "(28, 28)\n"
          ],
          "name": "stdout"
        },
        {
          "output_type": "display_data",
          "data": {
            "image/png": "[encoded data removed]",
            "text/plain": [
              "<Figure size 432x288 with 1 Axes>"
            ]
          },
          "metadata": {
            "tags": []
          }
        },
        {
          "output_type": "stream",
          "text": [
            "(28, 28)\n"
          ],
          "name": "stdout"
        },
        {
          "output_type": "display_data",
          "data": {
            "image/png": "[encoded data removed]",
            "text/plain": [
              "<Figure size 432x288 with 1 Axes>"
            ]
          },
          "metadata": {
            "tags": []
          }
        },
        {
          "output_type": "stream",
          "text": [
            "(28, 28)\n"
          ],
          "name": "stdout"
        },
        {
          "output_type": "display_data",
          "data": {
            "image/png": "[encoded data removed]",
            "text/plain": [
              "<Figure size 432x288 with 1 Axes>"
            ]
          },
          "metadata": {
            "tags": []
          }
        },
        {
          "output_type": "stream",
          "text": [
            "(28, 28)\n"
          ],
          "name": "stdout"
        },
        {
          "output_type": "display_data",
          "data": {
            "image/png": "[encoded data removed]",
            "text/plain": [
              "<Figure size 432x288 with 1 Axes>"
            ]
          },
          "metadata": {
            "tags": []
          }
        },
        {
          "output_type": "stream",
          "text": [
            "(28, 28)\n"
          ],
          "name": "stdout"
        },
        {
          "output_type": "display_data",
          "data": {
            "image/png": "[encoded data removed]",
            "text/plain": [
              "<Figure size 432x288 with 1 Axes>"
            ]
          },
          "metadata": {
            "tags": []
          }
        },
        {
          "output_type": "stream",
          "text": [
            "(28, 28)\n"
          ],
          "name": "stdout"
        },
        {
          "output_type": "display_data",
          "data": {
            "image/png": "[encoded data removed]",
            "text/plain": [
              "<Figure size 432x288 with 1 Axes>"
            ]
          },
          "metadata": {
            "tags": []
          }
        },
        {
          "output_type": "stream",
          "text": [
            "(28, 28)\n"
          ],
          "name": "stdout"
        },
        {
          "output_type": "display_data",
          "data": {
            "image/png": "[encoded data removed]",
            "text/plain": [
              "<Figure size 432x288 with 1 Axes>"
            ]
          },
          "metadata": {
            "tags": []
          }
        },
        {
          "output_type": "stream",
          "text": [
            "(28, 28)\n"
          ],
          "name": "stdout"
        },
        {
          "output_type": "display_data",
          "data": {
            "image/png": "[encoded data removed]",
            "text/plain": [
              "<Figure size 432x288 with 1 Axes>"
            ]
          },
          "metadata": {
            "tags": []
          }
        },
        {
          "output_type": "stream",
          "text": [
            "(28, 28)\n"
          ],
          "name": "stdout"
        },
        {
          "output_type": "display_data",
          "data": {
            "image/png": "[encoded data removed]",
            "text/plain": [
              "<Figure size 432x288 with 1 Axes>"
            ]
          },
          "metadata": {
            "tags": []
          }
        },
        {
          "output_type": "stream",
          "text": [
            "(28, 28)\n"
          ],
          "name": "stdout"
        },
        {
          "output_type": "display_data",
          "data": {
            "image/png": "[encoded data removed]",
            "text/plain": [
              "<Figure size 432x288 with 1 Axes>"
            ]
          },
          "metadata": {
            "tags": []
          }
        },
        {
          "output_type": "stream",
          "text": [
            "(28, 28)\n"
          ],
          "name": "stdout"
        },
        {
          "output_type": "display_data",
          "data": {
            "image/png": "[encoded data removed]",
            "text/plain": [
              "<Figure size 432x288 with 1 Axes>"
            ]
          },
          "metadata": {
            "tags": []
          }
        },
        {
          "output_type": "stream",
          "text": [
            "(28, 28)\n"
          ],
          "name": "stdout"
        },
        {
          "output_type": "display_data",
          "data": {
            "image/png": "[encoded data removed]",
            "text/plain": [
              "<Figure size 432x288 with 1 Axes>"
            ]
          },
          "metadata": {
            "tags": []
          }
        },
        {
          "output_type": "stream",
          "text": [
            "(28, 28)\n"
          ],
          "name": "stdout"
        },
        {
          "output_type": "display_data",
          "data": {
            "image/png": "[encoded data removed]",
            "text/plain": [
              "<Figure size 432x288 with 1 Axes>"
            ]
          },
          "metadata": {
            "tags": []
          }
        },
        {
          "output_type": "stream",
          "text": [
            "(28, 28)\n"
          ],
          "name": "stdout"
        },
        {
          "output_type": "display_data",
          "data": {
            "image/png": "[encoded data removed]",
            "text/plain": [
              "<Figure size 432x288 with 1 Axes>"
            ]
          },
          "metadata": {
            "tags": []
          }
        },
        {
          "output_type": "stream",
          "text": [
            "(28, 28)\n"
          ],
          "name": "stdout"
        },
        {
          "output_type": "display_data",
          "data": {
            "image/png": "[encoded data removed]",
            "text/plain": [
              "<Figure size 432x288 with 1 Axes>"
            ]
          },
          "metadata": {
            "tags": []
          }
        },
        {
          "output_type": "stream",
          "text": [
            "(28, 28)\n"
          ],
          "name": "stdout"
        },
        {
          "output_type": "display_data",
          "data": {
            "image/png": "[encoded data removed]",
            "text/plain": [
              "<Figure size 432x288 with 1 Axes>"
            ]
          },
          "metadata": {
            "tags": []
          }
        },
        {
          "output_type": "stream",
          "text": [
            "(28, 28)\n"
          ],
          "name": "stdout"
        },
        {
          "output_type": "display_data",
          "data": {
            "image/png": "[encoded data removed]",
            "text/plain": [
              "<Figure size 432x288 with 1 Axes>"
            ]
          },
          "metadata": {
            "tags": []
          }
        },
        {
          "output_type": "stream",
          "text": [
            "(28, 28)\n"
          ],
          "name": "stdout"
        },
        {
          "output_type": "display_data",
          "data": {
            "image/png": "[encoded data removed]",
            "text/plain": [
              "<Figure size 432x288 with 1 Axes>"
            ]
          },
          "metadata": {
            "tags": []
          }
        },
        {
          "output_type": "stream",
          "text": [
            "(28, 28)\n"
          ],
          "name": "stdout"
        },
        {
          "output_type": "display_data",
          "data": {
            "image/png": "[encoded data removed]",
            "text/plain": [
              "<Figure size 432x288 with 1 Axes>"
            ]
          },
          "metadata": {
            "tags": []
          }
        },
        {
          "output_type": "stream",
          "text": [
            "(28, 28)\n"
          ],
          "name": "stdout"
        },
        {
          "output_type": "display_data",
          "data": {
            "image/png": "[encoded data removed]",
            "text/plain": [
              "<Figure size 432x288 with 1 Axes>"
            ]
          },
          "metadata": {
            "tags": []
          }
        }
      ]
    }
  ]
}