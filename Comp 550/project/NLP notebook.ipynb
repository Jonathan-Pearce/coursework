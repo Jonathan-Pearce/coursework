{
 "cells": [
  {
   "cell_type": "code",
   "execution_count": 43,
   "metadata": {
    "ExecuteTime": {
     "end_time": "2018-12-12T22:06:38.039403Z",
     "start_time": "2018-12-12T22:06:38.027101Z"
    }
   },
   "outputs": [],
   "source": [
    "from nltk.sentiment.vader import SentimentIntensityAnalyzer\n",
    "from nltk.tag import pos_tag\n",
    "from nltk.tokenize import word_tokenize, sent_tokenize\n",
    "from collections import Counter\n",
    "from matplotlib import pyplot as plt\n",
    "from glob import glob\n",
    "\n",
    "import entity\n",
    "import json\n",
    "import pandas as pd\n",
    "import os\n",
    "import numpy as np"
   ]
  },
  {
   "cell_type": "code",
   "execution_count": 2,
   "metadata": {
    "ExecuteTime": {
     "end_time": "2018-12-12T20:36:16.726595Z",
     "start_time": "2018-12-12T20:36:16.700918Z"
    },
    "collapsed": true
   },
   "outputs": [],
   "source": [
    "vs = SentimentIntensityAnalyzer()\n",
    "entities = entity.Entity()"
   ]
  },
  {
   "cell_type": "code",
   "execution_count": 3,
   "metadata": {
    "ExecuteTime": {
     "end_time": "2018-12-12T20:36:17.237149Z",
     "start_time": "2018-12-12T20:36:17.223086Z"
    },
    "collapsed": true
   },
   "outputs": [],
   "source": [
    "json_data = None\n",
    "with open(\"data/test.json\") as json_file:\n",
    "    json_data = json.load(json_file)"
   ]
  },
  {
   "cell_type": "code",
   "execution_count": 4,
   "metadata": {
    "ExecuteTime": {
     "end_time": "2018-12-12T20:36:17.791342Z",
     "start_time": "2018-12-12T20:36:17.784663Z"
    },
    "collapsed": true
   },
   "outputs": [],
   "source": [
    "def get_json_data(json_data):\n",
    "    '''\n",
    "    @param json_data: [ {content:'', title:'', keywords:'', sector:''}, ... ]\n",
    "    @return: tuple of (title, keywords, content)\n",
    "    '''\n",
    "    for article in json_data:\n",
    "        if article['sector'] in ['Technology', 'Markets']:\n",
    "            yield (article['news_title'], article['keywords'], article['content'])"
   ]
  },
  {
   "cell_type": "code",
   "execution_count": 5,
   "metadata": {
    "ExecuteTime": {
     "end_time": "2018-12-12T20:36:18.285758Z",
     "start_time": "2018-12-12T20:36:18.281578Z"
    },
    "collapsed": true
   },
   "outputs": [],
   "source": [
    "g = get_json_data(json_data)"
   ]
  },
  {
   "cell_type": "code",
   "execution_count": 6,
   "metadata": {
    "ExecuteTime": {
     "end_time": "2018-12-12T20:36:19.074282Z",
     "start_time": "2018-12-12T20:36:19.066478Z"
    },
    "collapsed": true
   },
   "outputs": [],
   "source": [
    "def get_entities_from_article_content(article_content):\n",
    "    '''\n",
    "    @param article_content: non-processed string of content\n",
    "    @return set of entity names found in article_content\n",
    "    '''\n",
    "    global entities\n",
    "    articleEntities = entities.getSelectNamedEntities(['ORG','PERSON'],article_content)\n",
    "    entityNames = entities.createEntitySet(articleEntities)\n",
    "    if \" \" in entityNames:\n",
    "        entityNames.remove(\" \")\n",
    "    return entityNames"
   ]
  },
  {
   "cell_type": "code",
   "execution_count": 7,
   "metadata": {
    "ExecuteTime": {
     "end_time": "2018-12-12T20:36:19.716877Z",
     "start_time": "2018-12-12T20:36:19.708523Z"
    },
    "collapsed": true
   },
   "outputs": [],
   "source": [
    "def clean_article_content(article_content):\n",
    "    '''\n",
    "    @param article_content: non-processed string of content\n",
    "    @return array of lower-case sentences\n",
    "    '''\n",
    "    cleaned = []\n",
    "    for sent in sent_tokenize(article_content):\n",
    "        cleaned.append(sent.lower())\n",
    "    return cleaned"
   ]
  },
  {
   "cell_type": "code",
   "execution_count": 8,
   "metadata": {
    "ExecuteTime": {
     "end_time": "2018-12-12T20:36:20.360138Z",
     "start_time": "2018-12-12T20:36:20.344169Z"
    },
    "collapsed": true
   },
   "outputs": [],
   "source": [
    "def get_total_article_sentiment_score(article_content):\n",
    "    '''\n",
    "    @param article_content: non-processed string of content\n",
    "    @return average document score\n",
    "    '''\n",
    "    global vs\n",
    "    score = 0\n",
    "    sentences = sent_tokenize(article_content)\n",
    "    for sent in sentences:\n",
    "        score += vs.polarity_scores(sent)['compound']\n",
    "    \n",
    "    return score / len(sentences)"
   ]
  },
  {
   "cell_type": "code",
   "execution_count": 9,
   "metadata": {
    "ExecuteTime": {
     "end_time": "2018-12-12T20:36:21.324642Z",
     "start_time": "2018-12-12T20:36:21.301970Z"
    },
    "code_folding": [],
    "collapsed": true
   },
   "outputs": [],
   "source": [
    "def get_words_around_entity(entities, word_window_size, sentence_array):\n",
    "    '''\n",
    "    @param entities: set of entites to locate\n",
    "    @param word_window_size: the maximum number of words to consider part of context around entity\n",
    "    @param sentence_array: cleaned array of sentences which may or may not contain entities\n",
    "    @return dictionary mapping each entity to each context it occurs in\n",
    "    \n",
    "    >>> get_words_around_entity(set('mark'), 2, ['i am friends with mark because he is a cool dude'])\n",
    "    {'mark':['friends with mark because he]}\n",
    "    \n",
    "    >>> get_words_around_entity(set('toronto maple leafs'), 2, ['the guy will join the toronto maple leafs'])\n",
    "    {'toronto maple leafs':['join the toronto maple leafs']}\n",
    "    \n",
    "    '''\n",
    "    entity_context_map = {}\n",
    "    for e in entities:\n",
    "        \n",
    "        contexts = []\n",
    "        \n",
    "        for s in sentence_array:\n",
    "            if e in s:\n",
    "                lhs, _, rhs = s.partition(e)\n",
    "                lhs = lhs.split()[-word_window_size:]\n",
    "                rhs = rhs.split()[:word_window_size]\n",
    "                \n",
    "                contexts.append(\" \".join(lhs + [e] + rhs))\n",
    "                \n",
    "        entity_context_map[e] = contexts\n",
    "        \n",
    "    return entity_context_map"
   ]
  },
  {
   "cell_type": "code",
   "execution_count": 10,
   "metadata": {
    "ExecuteTime": {
     "end_time": "2018-12-12T20:36:22.233660Z",
     "start_time": "2018-12-12T20:36:22.220067Z"
    },
    "collapsed": true
   },
   "outputs": [],
   "source": [
    "def get_sent_scores_per_entity(entity_context_map):\n",
    "    '''\n",
    "    @param entity_context_map: dictionary of {entity:[list of context/sentences entity occurs in]}\n",
    "    @return dictionary of {entity: average sentiment score given context} \n",
    "    '''\n",
    "    global vs\n",
    "    entity_sent_map = {} \n",
    "    for e, context in entity_context_map.items():  \n",
    "        if len(context) == 0:\n",
    "            continue\n",
    "        e_score = 0\n",
    "        for sentence in context:\n",
    "            e_score += vs.polarity_scores(sentence)['compound']\n",
    "        entity_sent_map[e] = e_score / len(context)\n",
    "    return entity_sent_map"
   ]
  },
  {
   "cell_type": "code",
   "execution_count": 11,
   "metadata": {
    "ExecuteTime": {
     "end_time": "2018-12-12T20:36:23.310942Z",
     "start_time": "2018-12-12T20:36:23.303840Z"
    },
    "collapsed": true
   },
   "outputs": [],
   "source": [
    "def get_sentiment_difference(doc_score, entity_score_map):\n",
    "    '''\n",
    "    @param doc_score: float representing the document level sentiment score of an article\n",
    "    @param entity_score_map: {entity:sentiment_score} for each entity in the same article\n",
    "    @return total 'distance' between all entity scores and document score\n",
    "    '''\n",
    "    total_difference = 0;\n",
    "    for entity, score in entity_score_map.items():\n",
    "        total_difference += abs(doc_score - score)\n",
    "        \n",
    "    return total_difference"
   ]
  },
  {
   "cell_type": "code",
   "execution_count": 16,
   "metadata": {
    "ExecuteTime": {
     "end_time": "2018-12-12T20:49:24.401168Z",
     "start_time": "2018-12-12T20:49:24.359423Z"
    },
    "collapsed": true
   },
   "outputs": [],
   "source": [
    "def get_record_info(json_data):\n",
    "    '''\n",
    "    For each article in a record:\n",
    "        (1) Calculate the article score\n",
    "        (2) Get the entities\n",
    "        (3) Clean the sentences\n",
    "        (4) Get the context for each entity\n",
    "        (5) Compute the sentiment scores for each entity\n",
    "        (6) Compute the summed unsigned distance between the document score and all the entity scores\n",
    "        \n",
    "    @param json_data: \n",
    "    '''\n",
    "    ss = []\n",
    "    for t,k,c in get_json_data(json_data):\n",
    "        doc_score = get_total_article_sentiment_score(c)\n",
    "        ents = get_entities_from_article_content(c)\n",
    "        sentences = clean_article_content(c)\n",
    "        ent_score_15 = get_sent_scores_per_entity(get_words_around_entity(ents, 15, sentences))\n",
    "        ent_score_10 = get_sent_scores_per_entity(get_words_around_entity(ents, 10, sentences))\n",
    "        ent_score_5 = get_sent_scores_per_entity(get_words_around_entity(ents, 5, sentences))\n",
    "        dif_5 = get_sentiment_difference(doc_score, ent_score_5)\n",
    "        dif_10 = get_sentiment_difference(doc_score, ent_score_10)\n",
    "        dif_15 = get_sentiment_difference(doc_score, ent_score_15)\n",
    "\n",
    "        \n",
    "        s = pd.Series({\n",
    "            'name':t,\n",
    "            'doc_score':doc_score,\n",
    "            'ent':ents,\n",
    "            'ent_score_5':ent_score_5,\n",
    "            'ent_score_10':ent_score_10,\n",
    "            'ent_score_15':ent_score_15,\n",
    "            'dif_5':dif_5,\n",
    "            'dif_10':dif_10,\n",
    "            'dif_15':dif_15\n",
    "        })\n",
    "        \n",
    "        ss.append(s)\n",
    "        \n",
    "    \n",
    "    return pd.DataFrame(ss)"
   ]
  },
  {
   "cell_type": "code",
   "execution_count": 13,
   "metadata": {
    "ExecuteTime": {
     "end_time": "2018-12-09T21:41:48.835796Z",
     "start_time": "2018-12-09T21:41:46.721580Z"
    },
    "collapsed": true
   },
   "outputs": [],
   "source": [
    "df = get_record_info(json_data)"
   ]
  },
  {
   "cell_type": "code",
   "execution_count": 14,
   "metadata": {
    "ExecuteTime": {
     "end_time": "2018-12-09T21:41:48.864424Z",
     "start_time": "2018-12-09T21:41:48.837589Z"
    }
   },
   "outputs": [
    {
     "data": {
      "text/html": [
       "<div>\n",
       "<style>\n",
       "    .dataframe thead tr:only-child th {\n",
       "        text-align: right;\n",
       "    }\n",
       "\n",
       "    .dataframe thead th {\n",
       "        text-align: left;\n",
       "    }\n",
       "\n",
       "    .dataframe tbody tr th {\n",
       "        vertical-align: top;\n",
       "    }\n",
       "</style>\n",
       "<table border=\"1\" class=\"dataframe\">\n",
       "  <thead>\n",
       "    <tr style=\"text-align: right;\">\n",
       "      <th></th>\n",
       "      <th>dif</th>\n",
       "      <th>doc_score</th>\n",
       "      <th>ent_scores</th>\n",
       "      <th>entities</th>\n",
       "      <th>name</th>\n",
       "    </tr>\n",
       "  </thead>\n",
       "  <tbody>\n",
       "    <tr>\n",
       "      <th>0</th>\n",
       "      <td>2.957631</td>\n",
       "      <td>0.086328</td>\n",
       "      <td>{'blake/file': 0.0, 'phototoshiba': 0.0, 'west...</td>\n",
       "      <td>{blake/file, phototoshiba, western digital, al...</td>\n",
       "      <td>Exclusive: Toshiba aims to name buyer of $18 b...</td>\n",
       "    </tr>\n",
       "    <tr>\n",
       "      <th>1</th>\n",
       "      <td>3.315500</td>\n",
       "      <td>0.224240</td>\n",
       "      <td>{'tpg capital management': 0.2732, 'chien wong...</td>\n",
       "      <td>{tpg capital management, chien wong, hutchison...</td>\n",
       "      <td>CORRECTED-Hutchison's fixed-line biz draws int...</td>\n",
       "    </tr>\n",
       "    <tr>\n",
       "      <th>2</th>\n",
       "      <td>1.656255</td>\n",
       "      <td>0.204159</td>\n",
       "      <td>{'norinchukin research institute': 0.0, 'reute...</td>\n",
       "      <td>{norinchukin research institute, reuters, cabi...</td>\n",
       "      <td>Japan's first quarter growth halved by oil inv...</td>\n",
       "    </tr>\n",
       "    <tr>\n",
       "      <th>3</th>\n",
       "      <td>5.337483</td>\n",
       "      <td>0.278367</td>\n",
       "      <td>{'tpg capital management': 0.2732, 'hkbn ltd':...</td>\n",
       "      <td>{tpg capital management, hkbn ltd, carol zhong...</td>\n",
       "      <td>CORRECTED-UPDATE 1-Hutchison's fixed-line biz ...</td>\n",
       "    </tr>\n",
       "    <tr>\n",
       "      <th>4</th>\n",
       "      <td>0.000000</td>\n",
       "      <td>0.000000</td>\n",
       "      <td>{'sue-lin wong': 0.0, 'customs': 0.0, 'reuters...</td>\n",
       "      <td>{sue-lin wong, customs, reuters, the general a...</td>\n",
       "      <td>BRIEF-China May yuan-denominated exports rise ...</td>\n",
       "    </tr>\n",
       "  </tbody>\n",
       "</table>\n",
       "</div>"
      ],
      "text/plain": [
       "        dif  doc_score                                         ent_scores  \\\n",
       "0  2.957631   0.086328  {'blake/file': 0.0, 'phototoshiba': 0.0, 'west...   \n",
       "1  3.315500   0.224240  {'tpg capital management': 0.2732, 'chien wong...   \n",
       "2  1.656255   0.204159  {'norinchukin research institute': 0.0, 'reute...   \n",
       "3  5.337483   0.278367  {'tpg capital management': 0.2732, 'hkbn ltd':...   \n",
       "4  0.000000   0.000000  {'sue-lin wong': 0.0, 'customs': 0.0, 'reuters...   \n",
       "\n",
       "                                            entities  \\\n",
       "0  {blake/file, phototoshiba, western digital, al...   \n",
       "1  {tpg capital management, chien wong, hutchison...   \n",
       "2  {norinchukin research institute, reuters, cabi...   \n",
       "3  {tpg capital management, hkbn ltd, carol zhong...   \n",
       "4  {sue-lin wong, customs, reuters, the general a...   \n",
       "\n",
       "                                                name  \n",
       "0  Exclusive: Toshiba aims to name buyer of $18 b...  \n",
       "1  CORRECTED-Hutchison's fixed-line biz draws int...  \n",
       "2  Japan's first quarter growth halved by oil inv...  \n",
       "3  CORRECTED-UPDATE 1-Hutchison's fixed-line biz ...  \n",
       "4  BRIEF-China May yuan-denominated exports rise ...  "
      ]
     },
     "execution_count": 14,
     "metadata": {},
     "output_type": "execute_result"
    }
   ],
   "source": [
    "df.head()"
   ]
  },
  {
   "cell_type": "markdown",
   "metadata": {},
   "source": [
    "# Issues\n",
    "\n",
    "* Entities contain soft duplicates (e.g. 'western digital', 'western digital corp', 'western digital corporation')\n",
    "* Need a better scoring function (if doc D has entities A and B each of score 0, score(D) = 1, distance(D, entities(D)) should be 0. Or should they? Brain is fried)- look at dfs[16] for my confusion"
   ]
  },
  {
   "cell_type": "code",
   "execution_count": 17,
   "metadata": {
    "ExecuteTime": {
     "end_time": "2018-12-12T20:49:32.927290Z",
     "start_time": "2018-12-12T20:49:32.916753Z"
    },
    "collapsed": true
   },
   "outputs": [],
   "source": [
    "def get_data(path):\n",
    "    '''\n",
    "    @param path: something like 'data/*.json' - path to directory of json\n",
    "    @return dataframe\n",
    "    '''\n",
    "    dfs = []\n",
    "    for file in path:\n",
    "        with open(file) as json_file:\n",
    "            dfs.append(get_record_info(json.load(json_file)))\n",
    "            print(f\"done with file {file}\")\n",
    "            \n",
    "            \n",
    "    return pd.concat(dfs, ignore_index=True)"
   ]
  },
  {
   "cell_type": "code",
   "execution_count": 18,
   "metadata": {
    "ExecuteTime": {
     "end_time": "2018-12-12T20:49:34.219124Z",
     "start_time": "2018-12-12T20:49:34.212276Z"
    },
    "collapsed": true
   },
   "outputs": [],
   "source": [
    "def sort_files(fs):\n",
    "    f1 = [(f, os.path.getsize(f)) for f in fs] # sort files by size\n",
    "    f1 = sorted(f1, key=lambda t:t[1])\n",
    "    return [f for f,_ in f1]"
   ]
  },
  {
   "cell_type": "code",
   "execution_count": 19,
   "metadata": {
    "ExecuteTime": {
     "end_time": "2018-12-12T21:08:37.122712Z",
     "start_time": "2018-12-12T20:49:38.668463Z"
    },
    "scrolled": true
   },
   "outputs": [
    {
     "name": "stdout",
     "output_type": "stream",
     "text": [
      "done with file data/test.json\n",
      "done with file data/20170611.json\n",
      "done with file data/20170702.json\n",
      "done with file data/20170618.json\n",
      "done with file data/20170625.json\n",
      "done with file data/20170709.json\n",
      "done with file data/20170626.json\n",
      "done with file data/20170619.json\n",
      "done with file data/20170703.json\n",
      "done with file data/20170612.json\n",
      "done with file data/20170710.json\n",
      "done with file data/20170705.json\n",
      "done with file data/20170704.json\n",
      "done with file data/20170708.json\n",
      "done with file data/20170624.json\n",
      "done with file data/20170617.json\n",
      "done with file data/20170711.json\n",
      "done with file data/20170627.json\n",
      "done with file data/20170706.json\n",
      "done with file data/20170712.json\n",
      "done with file data/20170701.json\n",
      "done with file data/20170707.json\n",
      "done with file data/20170620.json\n",
      "done with file data/20170607.json\n",
      "done with file data/20170614.json\n",
      "done with file data/20170628.json\n",
      "done with file data/20170613.json\n",
      "done with file data/20170610.json\n",
      "done with file data/20170622.json\n",
      "done with file data/20170616.json\n",
      "done with file data/20170623.json\n",
      "done with file data/20170629.json\n",
      "done with file data/20170615.json\n",
      "done with file data/20170621.json\n",
      "done with file data/20170609.json\n",
      "done with file data/20170630.json\n",
      "done with file data/20170608.json\n"
     ]
    }
   ],
   "source": [
    "dfs = get_data(sort_files(glob('data/*.json')))"
   ]
  },
  {
   "cell_type": "code",
   "execution_count": 21,
   "metadata": {
    "ExecuteTime": {
     "end_time": "2018-12-12T21:18:27.861005Z",
     "start_time": "2018-12-12T21:18:27.642151Z"
    }
   },
   "outputs": [
    {
     "data": {
      "text/plain": [
       "dif_10                                 273.563\n",
       "dif_15                                 268.066\n",
       "dif_5                                  263.936\n",
       "doc_score                               0.9978\n",
       "ent          {industrial bank co ltd, reuters}\n",
       "name               東芝、半導体子会社売却先・日米韓連合で最終調整＝関係筋\n",
       "dtype: object"
      ]
     },
     "execution_count": 21,
     "metadata": {},
     "output_type": "execute_result"
    }
   ],
   "source": [
    "dfs.max()"
   ]
  },
  {
   "cell_type": "code",
   "execution_count": 121,
   "metadata": {
    "ExecuteTime": {
     "end_time": "2018-12-13T07:44:45.858457Z",
     "start_time": "2018-12-13T07:44:45.852369Z"
    },
    "scrolled": true
   },
   "outputs": [
    {
     "data": {
      "text/plain": [
       "(22395, 9)"
      ]
     },
     "execution_count": 121,
     "metadata": {},
     "output_type": "execute_result"
    }
   ],
   "source": [
    "dfs.shape"
   ]
  },
  {
   "cell_type": "code",
   "execution_count": 57,
   "metadata": {
    "ExecuteTime": {
     "end_time": "2018-12-09T22:26:08.115714Z",
     "start_time": "2018-12-09T22:26:08.105604Z"
    }
   },
   "outputs": [
    {
     "data": {
      "text/plain": [
       "dif                                                          0\n",
       "doc_score                                              -0.4017\n",
       "entities                                                    {}\n",
       "name         15 dead, scores missing hours after landslide ...\n",
       "dtype: object"
      ]
     },
     "execution_count": 57,
     "metadata": {},
     "output_type": "execute_result"
    }
   ],
   "source": [
    "dfs.min()"
   ]
  },
  {
   "cell_type": "code",
   "execution_count": 58,
   "metadata": {
    "ExecuteTime": {
     "end_time": "2018-12-09T22:26:19.327029Z",
     "start_time": "2018-12-09T22:26:19.305024Z"
    },
    "scrolled": true
   },
   "outputs": [
    {
     "data": {
      "text/plain": [
       "0      {blake/file, phototoshiba, western digital, al...\n",
       "1      {tpg capital management, chien wong, hutchison...\n",
       "2      {norinchukin research institute, reuters, cabi...\n",
       "3      {tpg capital management, hkbn ltd, carol zhong...\n",
       "4      {sue-lin wong, customs, reuters, the general a...\n",
       "5      {sue-lin wong, reuters, the general administra...\n",
       "6                        {jiangsu etern co ltd, reuters}\n",
       "7      {montblanc, kempinski hotels sa, daniel flynn,...\n",
       "8                      {reuters, guanghui energy co ltd}\n",
       "9      {tianmushan pharmaceutical enterprise co ltd, ...\n",
       "10     {the european central bank, jacqueline wong, t...\n",
       "11     {the european central bank, moody's, inflows r...\n",
       "12       {china fineblanking technology co ltd, reuters}\n",
       "13     {ningbo tianlong electronics co ltd, reuters, ...\n",
       "14              {jv, shanghai yaoji playing card co ltd}\n",
       "15             {nippon prologis reit inc, reuters, reit}\n",
       "16            {ningbo jifeng auto parts co ltd, reuters}\n",
       "17                                                    {}\n",
       "18     {reuters, fg alpha management, dali foods grou...\n",
       "19                {zhejiang yatai pharmaceutical co ltd}\n",
       "20     {moon, u.n., reuters, the house of representat...\n",
       "21     {mou, leslie adler, reuters, slim, the world w...\n",
       "22     {moon, u.n., reuters, the house of representat...\n",
       "23     {mou, leslie adler, reuters, slim, the world w...\n",
       "24     {johnson, reuters, theresa may, the sunday tim...\n",
       "25     {johnson, reuters, boris, theresa may, william...\n",
       "26     {the world trade organization, reuters,  merke...\n",
       "27     {reuters,  merkel, donald trump, andreas rinke...\n",
       "28     {doina chiacu, onewest, reuters, axious, the u...\n",
       "29     {dieter sarreither, reuters, andrea shalal, we...\n",
       "                             ...                        \n",
       "108    {tavan tolgoi, sumitomo corp, tsogttsetsii, pa...\n",
       "109    {reuters,  ,  international trade, eu, free, j...\n",
       "110    {modi, ron wyden -, reuters, house, donald tru...\n",
       "111    {modi, ron wyden -, reuters, house, donald tru...\n",
       "112    {mwpvl international inc., mwpvl, lauwin-planq...\n",
       "113    {national cyber security, birds, reuters, gchq...\n",
       "114    {national cyber security, birds, reuters, gchq...\n",
       "115    {pix, dustin volz, baghdadi, abd-rabbu mansour...\n",
       "116    {vicenza, reuters, the european commission, ba...\n",
       "117    {vicenza, reuters, the european commission, ba...\n",
       "118    {georgina prodhan, reuters, forcepoint, raythe...\n",
       "119    {xinmo, reuters, cctv, simon cameron-moore, ch...\n",
       "120    {macron, united nations, sorbonne university, ...\n",
       "121    {jessica kuruthukulangara, reuters, r. seshasa...\n",
       "122    {jessica kuruthukulangara, reuters, r. seshasa...\n",
       "123    {xp investimentos, sao, guillermo parra-bernal...\n",
       "124    {pix, gmt/11 am et, dustin volz, baghdadi, the...\n",
       "125    {jessica kuruthukulangara, reuters, sikka, inf...\n",
       "126    {infosys, jessica kuruthukulangara, reuters, a...\n",
       "127    {pix, gmt/11 am et, dustin volz, baghdadi, the...\n",
       "128    {setubal, xp investimentos sa, reuters, xp inv...\n",
       "129    {setubal, xp investimentos sa, sao, reuters, g...\n",
       "130    {mwpvl international inc., mwpvl, whole foods,...\n",
       "131    {kensington, pe, fiona mccormack, reynobond, h...\n",
       "132    {steven vandeput, reuters, dominique vidalon, ...\n",
       "133    {ebitda, reuters, detsky mir,  children's, sis...\n",
       "134    {georgy zarya, intermediate people's court, re...\n",
       "135    {georgy zarya, intermediate people's court, re...\n",
       "136    {nasa, reuters, bulsatcom, deutsche bank, ange...\n",
       "137    {nasa, reuters, bulsatcom, deutsche bank, ange...\n",
       "Name: entities, Length: 138, dtype: object"
      ]
     },
     "execution_count": 58,
     "metadata": {},
     "output_type": "execute_result"
    }
   ],
   "source": [
    "dfs['entities']"
   ]
  },
  {
   "cell_type": "code",
   "execution_count": 32,
   "metadata": {
    "ExecuteTime": {
     "end_time": "2018-12-12T22:00:51.175213Z",
     "start_time": "2018-12-12T22:00:38.698068Z"
    }
   },
   "outputs": [
    {
     "data": {
      "text/plain": [
       "dif_10       1.810494\n",
       "dif_15       1.756589\n",
       "dif_5        1.843843\n",
       "doc_score    0.248691\n",
       "dtype: float64"
      ]
     },
     "execution_count": 32,
     "metadata": {},
     "output_type": "execute_result"
    }
   ],
   "source": [
    "# plt.plot(dfs['doc_score'])\n",
    "dfs.mean()"
   ]
  },
  {
   "cell_type": "code",
   "execution_count": 33,
   "metadata": {
    "ExecuteTime": {
     "end_time": "2018-12-12T22:01:43.624263Z",
     "start_time": "2018-12-12T22:01:43.504119Z"
    }
   },
   "outputs": [
    {
     "data": {
      "text/plain": [
       "dif_10       1.205700\n",
       "dif_15       1.049400\n",
       "dif_5        1.325729\n",
       "doc_score    0.177190\n",
       "dtype: float64"
      ]
     },
     "execution_count": 33,
     "metadata": {},
     "output_type": "execute_result"
    }
   ],
   "source": [
    "dfs.median()"
   ]
  },
  {
   "cell_type": "code",
   "execution_count": 34,
   "metadata": {
    "ExecuteTime": {
     "end_time": "2018-12-12T22:02:18.946284Z",
     "start_time": "2018-12-12T22:02:18.724832Z"
    }
   },
   "outputs": [
    {
     "data": {
      "text/plain": [
       "dif_10       3.336902\n",
       "dif_15       3.416988\n",
       "dif_5        3.241216\n",
       "doc_score    0.365843\n",
       "dtype: float64"
      ]
     },
     "execution_count": 34,
     "metadata": {},
     "output_type": "execute_result"
    }
   ],
   "source": [
    "dfs.std()"
   ]
  },
  {
   "cell_type": "code",
   "execution_count": 37,
   "metadata": {
    "ExecuteTime": {
     "end_time": "2018-12-12T22:04:02.372986Z",
     "start_time": "2018-12-12T22:04:02.361888Z"
    }
   },
   "outputs": [],
   "source": [
    "d1 = dfs[dfs.dif_10 < 20]\n",
    "d2 = dfs[dfs.dif_10 >= 20]"
   ]
  },
  {
   "cell_type": "code",
   "execution_count": 38,
   "metadata": {
    "ExecuteTime": {
     "end_time": "2018-12-12T22:04:13.758656Z",
     "start_time": "2018-12-12T22:04:13.753161Z"
    }
   },
   "outputs": [
    {
     "data": {
      "text/plain": [
       "201366"
      ]
     },
     "execution_count": 38,
     "metadata": {},
     "output_type": "execute_result"
    }
   ],
   "source": [
    "d1.size"
   ]
  },
  {
   "cell_type": "code",
   "execution_count": 39,
   "metadata": {
    "ExecuteTime": {
     "end_time": "2018-12-12T22:04:28.295929Z",
     "start_time": "2018-12-12T22:04:28.290293Z"
    }
   },
   "outputs": [
    {
     "data": {
      "text/plain": [
       "189"
      ]
     },
     "execution_count": 39,
     "metadata": {},
     "output_type": "execute_result"
    }
   ],
   "source": [
    "d2.size"
   ]
  },
  {
   "cell_type": "code",
   "execution_count": 40,
   "metadata": {
    "ExecuteTime": {
     "end_time": "2018-12-12T22:04:45.621840Z",
     "start_time": "2018-12-12T22:04:45.433379Z"
    }
   },
   "outputs": [
    {
     "data": {
      "text/plain": [
       "dif_10       1.893844\n",
       "dif_15       2.040526\n",
       "dif_5        1.802483\n",
       "doc_score    0.365814\n",
       "dtype: float64"
      ]
     },
     "execution_count": 40,
     "metadata": {},
     "output_type": "execute_result"
    }
   ],
   "source": [
    "d1.std()"
   ]
  },
  {
   "cell_type": "code",
   "execution_count": 42,
   "metadata": {
    "ExecuteTime": {
     "end_time": "2018-12-12T22:05:10.396967Z",
     "start_time": "2018-12-12T22:05:10.246180Z"
    }
   },
   "outputs": [
    {
     "data": {
      "text/plain": [
       "dif_10                                                       0\n",
       "dif_15                                                       0\n",
       "dif_5                                                        0\n",
       "doc_score                                              -0.9892\n",
       "ent                                                         {}\n",
       "name         'Brain training' app improves memory in people...\n",
       "dtype: object"
      ]
     },
     "execution_count": 42,
     "metadata": {},
     "output_type": "execute_result"
    }
   ],
   "source": [
    "d1.min()"
   ]
  },
  {
   "cell_type": "code",
   "execution_count": 44,
   "metadata": {
    "ExecuteTime": {
     "end_time": "2018-12-12T22:07:08.281001Z",
     "start_time": "2018-12-12T22:07:08.243717Z"
    }
   },
   "outputs": [
    {
     "data": {
      "text/plain": [
       "7.799553471757089"
      ]
     },
     "execution_count": 44,
     "metadata": {},
     "output_type": "execute_result"
    }
   ],
   "source": [
    "np.mean([len(e) for e in dfs['ent']])"
   ]
  },
  {
   "cell_type": "code",
   "execution_count": 45,
   "metadata": {
    "ExecuteTime": {
     "end_time": "2018-12-12T22:07:24.931902Z",
     "start_time": "2018-12-12T22:07:24.919474Z"
    }
   },
   "outputs": [
    {
     "data": {
      "text/plain": [
       "5.0"
      ]
     },
     "execution_count": 45,
     "metadata": {},
     "output_type": "execute_result"
    }
   ],
   "source": [
    "np.median([len(e) for e in dfs['ent']])"
   ]
  },
  {
   "cell_type": "code",
   "execution_count": 47,
   "metadata": {
    "ExecuteTime": {
     "end_time": "2018-12-12T22:14:07.964547Z",
     "start_time": "2018-12-12T22:14:07.922917Z"
    }
   },
   "outputs": [
    {
     "data": {
      "text/html": [
       "<div>\n",
       "<style>\n",
       "    .dataframe thead tr:only-child th {\n",
       "        text-align: right;\n",
       "    }\n",
       "\n",
       "    .dataframe thead th {\n",
       "        text-align: left;\n",
       "    }\n",
       "\n",
       "    .dataframe tbody tr th {\n",
       "        vertical-align: top;\n",
       "    }\n",
       "</style>\n",
       "<table border=\"1\" class=\"dataframe\">\n",
       "  <thead>\n",
       "    <tr style=\"text-align: right;\">\n",
       "      <th></th>\n",
       "      <th>dif_10</th>\n",
       "      <th>dif_15</th>\n",
       "      <th>dif_5</th>\n",
       "      <th>doc_score</th>\n",
       "    </tr>\n",
       "  </thead>\n",
       "  <tbody>\n",
       "    <tr>\n",
       "      <th>count</th>\n",
       "      <td>22395.000000</td>\n",
       "      <td>22395.000000</td>\n",
       "      <td>22395.000000</td>\n",
       "      <td>22395.000000</td>\n",
       "    </tr>\n",
       "    <tr>\n",
       "      <th>mean</th>\n",
       "      <td>1.810494</td>\n",
       "      <td>1.756589</td>\n",
       "      <td>1.843843</td>\n",
       "      <td>0.248691</td>\n",
       "    </tr>\n",
       "    <tr>\n",
       "      <th>std</th>\n",
       "      <td>3.336902</td>\n",
       "      <td>3.416988</td>\n",
       "      <td>3.241216</td>\n",
       "      <td>0.365843</td>\n",
       "    </tr>\n",
       "    <tr>\n",
       "      <th>min</th>\n",
       "      <td>0.000000</td>\n",
       "      <td>0.000000</td>\n",
       "      <td>0.000000</td>\n",
       "      <td>-0.989200</td>\n",
       "    </tr>\n",
       "    <tr>\n",
       "      <th>25%</th>\n",
       "      <td>0.410313</td>\n",
       "      <td>0.241009</td>\n",
       "      <td>0.500000</td>\n",
       "      <td>0.000000</td>\n",
       "    </tr>\n",
       "    <tr>\n",
       "      <th>50%</th>\n",
       "      <td>1.205700</td>\n",
       "      <td>1.049400</td>\n",
       "      <td>1.325729</td>\n",
       "      <td>0.177190</td>\n",
       "    </tr>\n",
       "    <tr>\n",
       "      <th>75%</th>\n",
       "      <td>2.487069</td>\n",
       "      <td>2.385250</td>\n",
       "      <td>2.553000</td>\n",
       "      <td>0.510600</td>\n",
       "    </tr>\n",
       "    <tr>\n",
       "      <th>max</th>\n",
       "      <td>273.562800</td>\n",
       "      <td>268.065500</td>\n",
       "      <td>263.935500</td>\n",
       "      <td>0.997800</td>\n",
       "    </tr>\n",
       "  </tbody>\n",
       "</table>\n",
       "</div>"
      ],
      "text/plain": [
       "             dif_10        dif_15         dif_5     doc_score\n",
       "count  22395.000000  22395.000000  22395.000000  22395.000000\n",
       "mean       1.810494      1.756589      1.843843      0.248691\n",
       "std        3.336902      3.416988      3.241216      0.365843\n",
       "min        0.000000      0.000000      0.000000     -0.989200\n",
       "25%        0.410313      0.241009      0.500000      0.000000\n",
       "50%        1.205700      1.049400      1.325729      0.177190\n",
       "75%        2.487069      2.385250      2.553000      0.510600\n",
       "max      273.562800    268.065500    263.935500      0.997800"
      ]
     },
     "execution_count": 47,
     "metadata": {},
     "output_type": "execute_result"
    }
   ],
   "source": [
    "dfs.describe()"
   ]
  },
  {
   "cell_type": "code",
   "execution_count": 66,
   "metadata": {
    "ExecuteTime": {
     "end_time": "2018-12-12T22:27:22.491382Z",
     "start_time": "2018-12-12T22:27:22.482069Z"
    }
   },
   "outputs": [],
   "source": [
    "d1 = dfs[dfs.dif_10 < 40]"
   ]
  },
  {
   "cell_type": "code",
   "execution_count": 70,
   "metadata": {
    "ExecuteTime": {
     "end_time": "2018-12-12T22:28:23.722421Z",
     "start_time": "2018-12-12T22:28:23.714426Z"
    }
   },
   "outputs": [
    {
     "data": {
      "text/plain": [
       "(22389, 9)"
      ]
     },
     "execution_count": 70,
     "metadata": {},
     "output_type": "execute_result"
    }
   ],
   "source": [
    "d1.shape"
   ]
  },
  {
   "cell_type": "code",
   "execution_count": 74,
   "metadata": {
    "ExecuteTime": {
     "end_time": "2018-12-12T22:29:21.477677Z",
     "start_time": "2018-12-12T22:29:21.472825Z"
    }
   },
   "outputs": [
    {
     "data": {
      "text/plain": [
       "0.026791694574681845"
      ]
     },
     "execution_count": 74,
     "metadata": {},
     "output_type": "execute_result"
    }
   ],
   "source": [
    "(6/22395) * 100"
   ]
  },
  {
   "cell_type": "code",
   "execution_count": 77,
   "metadata": {
    "ExecuteTime": {
     "end_time": "2018-12-12T22:53:20.028674Z",
     "start_time": "2018-12-12T22:53:19.935422Z"
    }
   },
   "outputs": [
    {
     "data": {
      "text/html": [
       "<div>\n",
       "<style>\n",
       "    .dataframe thead tr:only-child th {\n",
       "        text-align: right;\n",
       "    }\n",
       "\n",
       "    .dataframe thead th {\n",
       "        text-align: left;\n",
       "    }\n",
       "\n",
       "    .dataframe tbody tr th {\n",
       "        vertical-align: top;\n",
       "    }\n",
       "</style>\n",
       "<table border=\"1\" class=\"dataframe\">\n",
       "  <thead>\n",
       "    <tr style=\"text-align: right;\">\n",
       "      <th></th>\n",
       "      <th>dif_10</th>\n",
       "      <th>dif_15</th>\n",
       "      <th>dif_5</th>\n",
       "      <th>doc_score</th>\n",
       "    </tr>\n",
       "  </thead>\n",
       "  <tbody>\n",
       "    <tr>\n",
       "      <th>count</th>\n",
       "      <td>22389.000000</td>\n",
       "      <td>22389.000000</td>\n",
       "      <td>22389.000000</td>\n",
       "      <td>22389.000000</td>\n",
       "    </tr>\n",
       "    <tr>\n",
       "      <th>mean</th>\n",
       "      <td>1.771425</td>\n",
       "      <td>1.717371</td>\n",
       "      <td>1.805623</td>\n",
       "      <td>0.248720</td>\n",
       "    </tr>\n",
       "    <tr>\n",
       "      <th>std</th>\n",
       "      <td>2.008462</td>\n",
       "      <td>2.152325</td>\n",
       "      <td>1.920547</td>\n",
       "      <td>0.365736</td>\n",
       "    </tr>\n",
       "    <tr>\n",
       "      <th>min</th>\n",
       "      <td>0.000000</td>\n",
       "      <td>0.000000</td>\n",
       "      <td>0.000000</td>\n",
       "      <td>-0.989200</td>\n",
       "    </tr>\n",
       "    <tr>\n",
       "      <th>25%</th>\n",
       "      <td>0.410100</td>\n",
       "      <td>0.240800</td>\n",
       "      <td>0.500000</td>\n",
       "      <td>0.000000</td>\n",
       "    </tr>\n",
       "    <tr>\n",
       "      <th>50%</th>\n",
       "      <td>1.205450</td>\n",
       "      <td>1.049000</td>\n",
       "      <td>1.324900</td>\n",
       "      <td>0.177190</td>\n",
       "    </tr>\n",
       "    <tr>\n",
       "      <th>75%</th>\n",
       "      <td>2.486100</td>\n",
       "      <td>2.383780</td>\n",
       "      <td>2.551920</td>\n",
       "      <td>0.510600</td>\n",
       "    </tr>\n",
       "    <tr>\n",
       "      <th>max</th>\n",
       "      <td>37.489767</td>\n",
       "      <td>37.278967</td>\n",
       "      <td>37.146600</td>\n",
       "      <td>0.997800</td>\n",
       "    </tr>\n",
       "  </tbody>\n",
       "</table>\n",
       "</div>"
      ],
      "text/plain": [
       "             dif_10        dif_15         dif_5     doc_score\n",
       "count  22389.000000  22389.000000  22389.000000  22389.000000\n",
       "mean       1.771425      1.717371      1.805623      0.248720\n",
       "std        2.008462      2.152325      1.920547      0.365736\n",
       "min        0.000000      0.000000      0.000000     -0.989200\n",
       "25%        0.410100      0.240800      0.500000      0.000000\n",
       "50%        1.205450      1.049000      1.324900      0.177190\n",
       "75%        2.486100      2.383780      2.551920      0.510600\n",
       "max       37.489767     37.278967     37.146600      0.997800"
      ]
     },
     "execution_count": 77,
     "metadata": {},
     "output_type": "execute_result"
    }
   ],
   "source": [
    "d1.describe()"
   ]
  },
  {
   "cell_type": "code",
   "execution_count": 78,
   "metadata": {
    "ExecuteTime": {
     "end_time": "2018-12-13T00:01:02.222872Z",
     "start_time": "2018-12-13T00:01:02.164954Z"
    },
    "collapsed": true
   },
   "outputs": [],
   "source": [
    "d11 = d1.describe()"
   ]
  },
  {
   "cell_type": "code",
   "execution_count": 81,
   "metadata": {
    "ExecuteTime": {
     "end_time": "2018-12-13T00:03:38.770162Z",
     "start_time": "2018-12-13T00:03:38.367115Z"
    }
   },
   "outputs": [
    {
     "name": "stderr",
     "output_type": "stream",
     "text": [
      "/Library/Frameworks/Python.framework/Versions/3.6/lib/python3.6/site-packages/ipykernel_launcher.py:1: SettingWithCopyWarning: \n",
      "A value is trying to be set on a copy of a slice from a DataFrame.\n",
      "Try using .loc[row_indexer,col_indexer] = value instead\n",
      "\n",
      "See the caveats in the documentation: http://pandas.pydata.org/pandas-docs/stable/indexing.html#indexing-view-versus-copy\n",
      "  \"\"\"Entry point for launching an IPython kernel.\n"
     ]
    }
   ],
   "source": [
    "d1['ent_len'] = pd.Series([len(e) for e in d1['ent']])"
   ]
  },
  {
   "cell_type": "code",
   "execution_count": 125,
   "metadata": {
    "ExecuteTime": {
     "end_time": "2018-12-13T07:47:43.415197Z",
     "start_time": "2018-12-13T07:47:43.403388Z"
    }
   },
   "outputs": [
    {
     "data": {
      "text/plain": [
       "7.739916923489213"
      ]
     },
     "execution_count": 125,
     "metadata": {},
     "output_type": "execute_result"
    }
   ],
   "source": [
    "sum([len(e) for e in d1['ent']]) / len(d1['ent'])"
   ]
  },
  {
   "cell_type": "code",
   "execution_count": 82,
   "metadata": {
    "ExecuteTime": {
     "end_time": "2018-12-13T00:03:54.578321Z",
     "start_time": "2018-12-13T00:03:54.537937Z"
    }
   },
   "outputs": [
    {
     "data": {
      "text/html": [
       "<div>\n",
       "<style>\n",
       "    .dataframe thead tr:only-child th {\n",
       "        text-align: right;\n",
       "    }\n",
       "\n",
       "    .dataframe thead th {\n",
       "        text-align: left;\n",
       "    }\n",
       "\n",
       "    .dataframe tbody tr th {\n",
       "        vertical-align: top;\n",
       "    }\n",
       "</style>\n",
       "<table border=\"1\" class=\"dataframe\">\n",
       "  <thead>\n",
       "    <tr style=\"text-align: right;\">\n",
       "      <th></th>\n",
       "      <th>dif_10</th>\n",
       "      <th>dif_15</th>\n",
       "      <th>dif_5</th>\n",
       "      <th>doc_score</th>\n",
       "      <th>ent_len</th>\n",
       "    </tr>\n",
       "  </thead>\n",
       "  <tbody>\n",
       "    <tr>\n",
       "      <th>count</th>\n",
       "      <td>22389.000000</td>\n",
       "      <td>22389.000000</td>\n",
       "      <td>22389.000000</td>\n",
       "      <td>22389.000000</td>\n",
       "      <td>22383.000000</td>\n",
       "    </tr>\n",
       "    <tr>\n",
       "      <th>mean</th>\n",
       "      <td>1.771425</td>\n",
       "      <td>1.717371</td>\n",
       "      <td>1.805623</td>\n",
       "      <td>0.248720</td>\n",
       "      <td>7.740741</td>\n",
       "    </tr>\n",
       "    <tr>\n",
       "      <th>std</th>\n",
       "      <td>2.008462</td>\n",
       "      <td>2.152325</td>\n",
       "      <td>1.920547</td>\n",
       "      <td>0.365736</td>\n",
       "      <td>8.717174</td>\n",
       "    </tr>\n",
       "    <tr>\n",
       "      <th>min</th>\n",
       "      <td>0.000000</td>\n",
       "      <td>0.000000</td>\n",
       "      <td>0.000000</td>\n",
       "      <td>-0.989200</td>\n",
       "      <td>0.000000</td>\n",
       "    </tr>\n",
       "    <tr>\n",
       "      <th>25%</th>\n",
       "      <td>0.410100</td>\n",
       "      <td>0.240800</td>\n",
       "      <td>0.500000</td>\n",
       "      <td>0.000000</td>\n",
       "      <td>3.000000</td>\n",
       "    </tr>\n",
       "    <tr>\n",
       "      <th>50%</th>\n",
       "      <td>1.205450</td>\n",
       "      <td>1.049000</td>\n",
       "      <td>1.324900</td>\n",
       "      <td>0.177190</td>\n",
       "      <td>5.000000</td>\n",
       "    </tr>\n",
       "    <tr>\n",
       "      <th>75%</th>\n",
       "      <td>2.486100</td>\n",
       "      <td>2.383780</td>\n",
       "      <td>2.551920</td>\n",
       "      <td>0.510600</td>\n",
       "      <td>9.000000</td>\n",
       "    </tr>\n",
       "    <tr>\n",
       "      <th>max</th>\n",
       "      <td>37.489767</td>\n",
       "      <td>37.278967</td>\n",
       "      <td>37.146600</td>\n",
       "      <td>0.997800</td>\n",
       "      <td>131.000000</td>\n",
       "    </tr>\n",
       "  </tbody>\n",
       "</table>\n",
       "</div>"
      ],
      "text/plain": [
       "             dif_10        dif_15         dif_5     doc_score       ent_len\n",
       "count  22389.000000  22389.000000  22389.000000  22389.000000  22383.000000\n",
       "mean       1.771425      1.717371      1.805623      0.248720      7.740741\n",
       "std        2.008462      2.152325      1.920547      0.365736      8.717174\n",
       "min        0.000000      0.000000      0.000000     -0.989200      0.000000\n",
       "25%        0.410100      0.240800      0.500000      0.000000      3.000000\n",
       "50%        1.205450      1.049000      1.324900      0.177190      5.000000\n",
       "75%        2.486100      2.383780      2.551920      0.510600      9.000000\n",
       "max       37.489767     37.278967     37.146600      0.997800    131.000000"
      ]
     },
     "execution_count": 82,
     "metadata": {},
     "output_type": "execute_result"
    }
   ],
   "source": [
    "d1.describe()"
   ]
  },
  {
   "cell_type": "code",
   "execution_count": 127,
   "metadata": {
    "ExecuteTime": {
     "end_time": "2018-12-13T07:51:39.471268Z",
     "start_time": "2018-12-13T07:51:39.220844Z"
    }
   },
   "outputs": [
    {
     "data": {
      "image/png": "[encoded data removed]",
      "text/plain": [
       "<matplotlib.figure.Figure at 0x13cd2b208>"
      ]
     },
     "metadata": {},
     "output_type": "display_data"
    }
   ],
   "source": [
    "plt.plot(d1['ent_len'][:500])\n",
    "plt.plot(d1['dif_15'][:500])\n",
    "plt.title(\"Entity length and 15 word context\")\n",
    "# plt.savefig('./ent_len_15.png')\n",
    "plt.show()\n",
    "# plt.plot(d1['dif_10'][:500])\n",
    "# plt.title(\"10 word context\")\n",
    "# plt.show()\n",
    "# plt.plot(d1['dif_5'][:500])\n",
    "# plt.title(\"5 word context\")\n",
    "# plt.show()"
   ]
  },
  {
   "cell_type": "code",
   "execution_count": 110,
   "metadata": {
    "ExecuteTime": {
     "end_time": "2018-12-13T06:52:18.006244Z",
     "start_time": "2018-12-13T06:52:17.996275Z"
    }
   },
   "outputs": [
    {
     "data": {
      "text/plain": [
       "(4288,)"
      ]
     },
     "execution_count": 110,
     "metadata": {},
     "output_type": "execute_result"
    }
   ],
   "source": [
    "d1[d1.dif_10 > 3]['name'].shape"
   ]
  },
  {
   "cell_type": "code",
   "execution_count": 112,
   "metadata": {
    "ExecuteTime": {
     "end_time": "2018-12-13T07:11:37.038158Z",
     "start_time": "2018-12-13T07:11:36.948447Z"
    }
   },
   "outputs": [],
   "source": [
    "d1.describe().to_latex('./difs_and_ent.tex')"
   ]
  },
  {
   "cell_type": "code",
   "execution_count": 119,
   "metadata": {
    "ExecuteTime": {
     "end_time": "2018-12-13T07:43:34.181178Z",
     "start_time": "2018-12-13T07:43:34.164746Z"
    }
   },
   "outputs": [
    {
     "data": {
      "text/plain": [
       "7.7407407407407405"
      ]
     },
     "execution_count": 119,
     "metadata": {},
     "output_type": "execute_result"
    }
   ],
   "source": [
    "d1['ent_len'].mean()"
   ]
  },
  {
   "cell_type": "code",
   "execution_count": 131,
   "metadata": {
    "ExecuteTime": {
     "end_time": "2018-12-13T07:53:43.137327Z",
     "start_time": "2018-12-13T07:53:43.122095Z"
    }
   },
   "outputs": [
    {
     "data": {
      "text/plain": [
       "{'commercial real estate investment trust',\n",
       " 'commercial real estate ltd',\n",
       " 'eur40.7',\n",
       " 'reuters'}"
      ]
     },
     "execution_count": 131,
     "metadata": {},
     "output_type": "execute_result"
    }
   ],
   "source": [
    "d1[d1.ent_len > 100]['ent'][858]"
   ]
  },
  {
   "cell_type": "code",
   "execution_count": 144,
   "metadata": {
    "ExecuteTime": {
     "end_time": "2018-12-13T07:58:12.631415Z",
     "start_time": "2018-12-13T07:58:12.588951Z"
    }
   },
   "outputs": [
    {
     "data": {
      "text/plain": [
       "[26,\n",
       " 18,\n",
       " 10,\n",
       " 26,\n",
       " 4,\n",
       " 4,\n",
       " 2,\n",
       " 27,\n",
       " 2,\n",
       " 2,\n",
       " 26,\n",
       " 48,\n",
       " 2,\n",
       " 3,\n",
       " 2,\n",
       " 3,\n",
       " 2,\n",
       " 0,\n",
       " 3,\n",
       " 1,\n",
       " 19,\n",
       " 15,\n",
       " 19,\n",
       " 15,\n",
       " 10,\n",
       " 8,\n",
       " 10,\n",
       " 17,\n",
       " 15,\n",
       " 9,\n",
       " 9,\n",
       " 6,\n",
       " 17,\n",
       " 10,\n",
       " 9,\n",
       " 19,\n",
       " 23,\n",
       " 12,\n",
       " 24,\n",
       " 24,\n",
       " 5,\n",
       " 8,\n",
       " 6,\n",
       " 6,\n",
       " 6,\n",
       " 8,\n",
       " 21,\n",
       " 12,\n",
       " 23,\n",
       " 23,\n",
       " 7,\n",
       " 7,\n",
       " 4,\n",
       " 4,\n",
       " 5,\n",
       " 5,\n",
       " 19,\n",
       " 33,\n",
       " 11,\n",
       " 13,\n",
       " 13,\n",
       " 27,\n",
       " 27,\n",
       " 17,\n",
       " 17,\n",
       " 9,\n",
       " 14,\n",
       " 14,\n",
       " 14,\n",
       " 17,\n",
       " 11,\n",
       " 22,\n",
       " 11,\n",
       " 11,\n",
       " 11,\n",
       " 8,\n",
       " 15,\n",
       " 15,\n",
       " 11,\n",
       " 9,\n",
       " 11,\n",
       " 10,\n",
       " 9,\n",
       " 13,\n",
       " 13,\n",
       " 4,\n",
       " 9,\n",
       " 9,\n",
       " 8,\n",
       " 7,\n",
       " 9,\n",
       " 9,\n",
       " 7,\n",
       " 13,\n",
       " 10,\n",
       " 30,\n",
       " 50,\n",
       " 12,\n",
       " 8,\n",
       " 8,\n",
       " 12,\n",
       " 25,\n",
       " 15,\n",
       " 14,\n",
       " 11,\n",
       " 7,\n",
       " 5,\n",
       " 32,\n",
       " 32,\n",
       " 11,\n",
       " 17,\n",
       " 17,\n",
       " 24,\n",
       " 15,\n",
       " 15,\n",
       " 55,\n",
       " 7,\n",
       " 7,\n",
       " 8,\n",
       " 9,\n",
       " 13,\n",
       " 10,\n",
       " 10,\n",
       " 6,\n",
       " 69,\n",
       " 5,\n",
       " 4,\n",
       " 70,\n",
       " 13,\n",
       " 9,\n",
       " 22,\n",
       " 22,\n",
       " 11,\n",
       " 8,\n",
       " 15,\n",
       " 15,\n",
       " 9,\n",
       " 9,\n",
       " 32,\n",
       " 32,\n",
       " 17,\n",
       " 20,\n",
       " 27,\n",
       " 12,\n",
       " 40,\n",
       " 13,\n",
       " 11,\n",
       " 14,\n",
       " 8,\n",
       " 8,\n",
       " 19,\n",
       " 5,\n",
       " 10,\n",
       " 22,\n",
       " 22,\n",
       " 9,\n",
       " 10,\n",
       " 39,\n",
       " 7,\n",
       " 11,\n",
       " 7,\n",
       " 9,\n",
       " 7,\n",
       " 7,\n",
       " 7,\n",
       " 9,\n",
       " 32,\n",
       " 14,\n",
       " 32,\n",
       " 5,\n",
       " 21,\n",
       " 21,\n",
       " 7,\n",
       " 20,\n",
       " 42,\n",
       " 11,\n",
       " 4,\n",
       " 14,\n",
       " 9,\n",
       " 8,\n",
       " 9,\n",
       " 9,\n",
       " 7,\n",
       " 12,\n",
       " 12,\n",
       " 2,\n",
       " 2,\n",
       " 7,\n",
       " 0,\n",
       " 4,\n",
       " 3,\n",
       " 21,\n",
       " 14,\n",
       " 3,\n",
       " 14,\n",
       " 21,\n",
       " 2,\n",
       " 20,\n",
       " 2,\n",
       " 3,\n",
       " 3,\n",
       " 2,\n",
       " 13,\n",
       " 6,\n",
       " 2,\n",
       " 4,\n",
       " 3,\n",
       " 10,\n",
       " 2,\n",
       " 6,\n",
       " 7,\n",
       " 20,\n",
       " 2,\n",
       " 1,\n",
       " 4,\n",
       " 5,\n",
       " 2,\n",
       " 5,\n",
       " 4,\n",
       " 3,\n",
       " 7,\n",
       " 2,\n",
       " 4,\n",
       " 4,\n",
       " 2,\n",
       " 3,\n",
       " 4,\n",
       " 3,\n",
       " 8,\n",
       " 6,\n",
       " 6,\n",
       " 8,\n",
       " 3,\n",
       " 48,\n",
       " 107,\n",
       " 3,\n",
       " 6,\n",
       " 6,\n",
       " 15,\n",
       " 5,\n",
       " 21,\n",
       " 23,\n",
       " 10,\n",
       " 24,\n",
       " 24,\n",
       " 3,\n",
       " 4,\n",
       " 5,\n",
       " 5,\n",
       " 7,\n",
       " 4,\n",
       " 7,\n",
       " 5,\n",
       " 3,\n",
       " 5,\n",
       " 5,\n",
       " 25,\n",
       " 4,\n",
       " 7,\n",
       " 9,\n",
       " 2,\n",
       " 7,\n",
       " 23,\n",
       " 18,\n",
       " 3,\n",
       " 4,\n",
       " 4,\n",
       " 21,\n",
       " 29,\n",
       " 6,\n",
       " 5,\n",
       " 12,\n",
       " 10,\n",
       " 12,\n",
       " 10,\n",
       " 16,\n",
       " 14,\n",
       " 14,\n",
       " 7,\n",
       " 16,\n",
       " 2,\n",
       " 5,\n",
       " 1,\n",
       " 2,\n",
       " 2,\n",
       " 2,\n",
       " 1,\n",
       " 58,\n",
       " 2,\n",
       " 1,\n",
       " 9,\n",
       " 24,\n",
       " 4,\n",
       " 9,\n",
       " 4,\n",
       " 5,\n",
       " 1,\n",
       " 5,\n",
       " 3,\n",
       " 2,\n",
       " 7,\n",
       " 6,\n",
       " 3,\n",
       " 2,\n",
       " 2,\n",
       " 4,\n",
       " 1,\n",
       " 2,\n",
       " 2,\n",
       " 2,\n",
       " 2,\n",
       " 1,\n",
       " 4,\n",
       " 1,\n",
       " 4,\n",
       " 2,\n",
       " 1,\n",
       " 1,\n",
       " 19,\n",
       " 6,\n",
       " 7,\n",
       " 24,\n",
       " 3,\n",
       " 2,\n",
       " 4,\n",
       " 10,\n",
       " 4,\n",
       " 2,\n",
       " 2,\n",
       " 3,\n",
       " 43,\n",
       " 7,\n",
       " 2,\n",
       " 3,\n",
       " 2,\n",
       " 4,\n",
       " 3,\n",
       " 4,\n",
       " 12,\n",
       " 2,\n",
       " 1,\n",
       " 3,\n",
       " 2,\n",
       " 14,\n",
       " 20,\n",
       " 3,\n",
       " 7,\n",
       " 5,\n",
       " 4,\n",
       " 10,\n",
       " 39,\n",
       " 122,\n",
       " 3,\n",
       " 3,\n",
       " 10,\n",
       " 7,\n",
       " 21,\n",
       " 16,\n",
       " 3,\n",
       " 3,\n",
       " 3,\n",
       " 4,\n",
       " 17,\n",
       " 5,\n",
       " 17,\n",
       " 1,\n",
       " 4,\n",
       " 12,\n",
       " 4,\n",
       " 7,\n",
       " 10,\n",
       " 9,\n",
       " 16,\n",
       " 10,\n",
       " 9,\n",
       " 9,\n",
       " 11,\n",
       " 8,\n",
       " 16,\n",
       " 2,\n",
       " 9,\n",
       " 12,\n",
       " 9,\n",
       " 11,\n",
       " 10,\n",
       " 11,\n",
       " 32,\n",
       " 28,\n",
       " 16,\n",
       " 8,\n",
       " 8,\n",
       " 4,\n",
       " 4,\n",
       " 12,\n",
       " 12,\n",
       " 12,\n",
       " 7,\n",
       " 5,\n",
       " 43,\n",
       " 9,\n",
       " 2,\n",
       " 2,\n",
       " 4,\n",
       " 2,\n",
       " 0,\n",
       " 1,\n",
       " 1,\n",
       " 6,\n",
       " 7,\n",
       " 2,\n",
       " 4,\n",
       " 6,\n",
       " 39,\n",
       " 4,\n",
       " 5,\n",
       " 2,\n",
       " 2,\n",
       " 6,\n",
       " 2,\n",
       " 1,\n",
       " 2,\n",
       " 2,\n",
       " 2,\n",
       " 1,\n",
       " 1,\n",
       " 3,\n",
       " 0,\n",
       " 1,\n",
       " 1,\n",
       " 1,\n",
       " 4,\n",
       " 1,\n",
       " 2,\n",
       " 3,\n",
       " 1,\n",
       " 1,\n",
       " 2,\n",
       " 7,\n",
       " 2,\n",
       " 2,\n",
       " 2,\n",
       " 16,\n",
       " 7,\n",
       " 2,\n",
       " 5,\n",
       " 2,\n",
       " 10,\n",
       " 3,\n",
       " 9,\n",
       " 10,\n",
       " 4,\n",
       " 5,\n",
       " 7,\n",
       " 3,\n",
       " 6,\n",
       " 2,\n",
       " 3,\n",
       " 2,\n",
       " 3,\n",
       " 20,\n",
       " 12,\n",
       " 12,\n",
       " 15,\n",
       " 5,\n",
       " 6,\n",
       " 6,\n",
       " 4,\n",
       " 2,\n",
       " 5,\n",
       " 3,\n",
       " 47,\n",
       " 78,\n",
       " 14,\n",
       " 33,\n",
       " 5,\n",
       " 6,\n",
       " 8,\n",
       " 3,\n",
       " 2,\n",
       " 2,\n",
       " 2,\n",
       " 4,\n",
       " 3,\n",
       " 9,\n",
       " 10,\n",
       " 3,\n",
       " 3,\n",
       " 12,\n",
       " 10,\n",
       " 1,\n",
       " 15,\n",
       " 4,\n",
       " 2,\n",
       " 3,\n",
       " 4,\n",
       " 4,\n",
       " 5,\n",
       " 4,\n",
       " 7,\n",
       " 11,\n",
       " 7,\n",
       " 11,\n",
       " 25,\n",
       " 25,\n",
       " 17,\n",
       " 6,\n",
       " 9,\n",
       " 10,\n",
       " 8,\n",
       " 22,\n",
       " 17,\n",
       " 17,\n",
       " 4,\n",
       " 4,\n",
       " 10,\n",
       " 10,\n",
       " 11,\n",
       " 17,\n",
       " 4,\n",
       " 2,\n",
       " 8,\n",
       " 2,\n",
       " 2,\n",
       " 14,\n",
       " 6,\n",
       " 7,\n",
       " 2,\n",
       " 2,\n",
       " 4,\n",
       " 9,\n",
       " 9,\n",
       " 2,\n",
       " 3,\n",
       " 6,\n",
       " 2,\n",
       " 4,\n",
       " 6,\n",
       " 6,\n",
       " 2,\n",
       " 3,\n",
       " 1,\n",
       " 0,\n",
       " 4,\n",
       " 2,\n",
       " 50,\n",
       " 2,\n",
       " 2,\n",
       " 2,\n",
       " 3,\n",
       " 5,\n",
       " 2,\n",
       " 10,\n",
       " 3,\n",
       " 2,\n",
       " 2,\n",
       " 1,\n",
       " 3,\n",
       " 4,\n",
       " 2,\n",
       " 23,\n",
       " 2,\n",
       " 2,\n",
       " 0,\n",
       " 3,\n",
       " 2,\n",
       " 2,\n",
       " 2,\n",
       " 4,\n",
       " 3,\n",
       " 3,\n",
       " 11,\n",
       " 18,\n",
       " 2,\n",
       " 11,\n",
       " 1,\n",
       " 2,\n",
       " 22,\n",
       " 3,\n",
       " 6,\n",
       " 23,\n",
       " 5,\n",
       " 12,\n",
       " 20,\n",
       " 46,\n",
       " 90,\n",
       " 8,\n",
       " 6,\n",
       " 5,\n",
       " 5,\n",
       " 22,\n",
       " 3,\n",
       " 6,\n",
       " 67,\n",
       " 1,\n",
       " 21,\n",
       " 35,\n",
       " 7,\n",
       " 6,\n",
       " 11,\n",
       " 27,\n",
       " 9,\n",
       " 7,\n",
       " 21,\n",
       " 27,\n",
       " 21,\n",
       " 10,\n",
       " 4,\n",
       " 4,\n",
       " 11,\n",
       " 18,\n",
       " 28,\n",
       " 9,\n",
       " 1,\n",
       " 10,\n",
       " 8,\n",
       " 13,\n",
       " 3,\n",
       " 3,\n",
       " 11,\n",
       " 18,\n",
       " 5,\n",
       " 5,\n",
       " 5,\n",
       " 20,\n",
       " 2,\n",
       " 2,\n",
       " 2,\n",
       " 2,\n",
       " 3,\n",
       " 2,\n",
       " 5,\n",
       " 1,\n",
       " 1,\n",
       " 1,\n",
       " 1,\n",
       " 2,\n",
       " 39,\n",
       " 5,\n",
       " 9,\n",
       " 4,\n",
       " 10,\n",
       " 3,\n",
       " 1,\n",
       " 3,\n",
       " 15,\n",
       " 3,\n",
       " 15,\n",
       " 18,\n",
       " 1,\n",
       " 19,\n",
       " 2,\n",
       " 2,\n",
       " 19,\n",
       " 5,\n",
       " 6,\n",
       " 2,\n",
       " 8,\n",
       " 3,\n",
       " 7,\n",
       " 1,\n",
       " 11,\n",
       " 7,\n",
       " 25,\n",
       " 5,\n",
       " 16,\n",
       " 15,\n",
       " 2,\n",
       " 55,\n",
       " 88,\n",
       " 6,\n",
       " 9,\n",
       " 6,\n",
       " 4,\n",
       " 20,\n",
       " 16,\n",
       " 2,\n",
       " 2,\n",
       " 2,\n",
       " 2,\n",
       " 3,\n",
       " 25,\n",
       " 14,\n",
       " 2,\n",
       " 23,\n",
       " 7,\n",
       " 4,\n",
       " 6,\n",
       " 12,\n",
       " 28,\n",
       " 28,\n",
       " 10,\n",
       " 14,\n",
       " 8,\n",
       " 3,\n",
       " 17,\n",
       " 24,\n",
       " 3,\n",
       " 13,\n",
       " 2,\n",
       " 2,\n",
       " 2,\n",
       " 2,\n",
       " 10,\n",
       " 26,\n",
       " 23,\n",
       " 19,\n",
       " 12,\n",
       " 15,\n",
       " 3,\n",
       " 2,\n",
       " 3,\n",
       " 13,\n",
       " 14,\n",
       " 9,\n",
       " 12,\n",
       " 10,\n",
       " 14,\n",
       " 3,\n",
       " 1,\n",
       " 3,\n",
       " 1,\n",
       " 1,\n",
       " 2,\n",
       " 3,\n",
       " 0,\n",
       " 2,\n",
       " 4,\n",
       " 30,\n",
       " 0,\n",
       " 1,\n",
       " 0,\n",
       " 5,\n",
       " 1,\n",
       " 1,\n",
       " 1,\n",
       " 15,\n",
       " 8,\n",
       " 0,\n",
       " 10,\n",
       " 2,\n",
       " 22,\n",
       " 3,\n",
       " 2,\n",
       " 2,\n",
       " 3,\n",
       " 5,\n",
       " 3,\n",
       " 2,\n",
       " 25,\n",
       " 2,\n",
       " 9,\n",
       " 3,\n",
       " 3,\n",
       " 2,\n",
       " 2,\n",
       " 4,\n",
       " 6,\n",
       " 5,\n",
       " 4,\n",
       " 3,\n",
       " 6,\n",
       " 20,\n",
       " 3,\n",
       " 20,\n",
       " 4,\n",
       " 10,\n",
       " 25,\n",
       " 14,\n",
       " 9,\n",
       " 10,\n",
       " 11,\n",
       " 8,\n",
       " 2,\n",
       " 51,\n",
       " 3,\n",
       " 3,\n",
       " 14,\n",
       " 2,\n",
       " 2,\n",
       " 5,\n",
       " 28,\n",
       " 9,\n",
       " 9,\n",
       " 2,\n",
       " 9,\n",
       " 9,\n",
       " 22,\n",
       " 8,\n",
       " 3,\n",
       " 5,\n",
       " 9,\n",
       " 7,\n",
       " 2,\n",
       " 5,\n",
       " 5,\n",
       " 39,\n",
       " 4,\n",
       " 17,\n",
       " 3,\n",
       " 5,\n",
       " 15,\n",
       " 3,\n",
       " 19,\n",
       " 21,\n",
       " 4,\n",
       " 21,\n",
       " 8,\n",
       " 4,\n",
       " 6,\n",
       " 5,\n",
       " 8,\n",
       " 3,\n",
       " 21,\n",
       " 8,\n",
       " 14,\n",
       " 9,\n",
       " 21,\n",
       " 4,\n",
       " 9,\n",
       " 9,\n",
       " 12,\n",
       " 7,\n",
       " 12,\n",
       " 10,\n",
       " 8,\n",
       " 7,\n",
       " 1,\n",
       " 1,\n",
       " 6,\n",
       " 10,\n",
       " 15,\n",
       " 16,\n",
       " 10,\n",
       " 2,\n",
       " 16,\n",
       " 10,\n",
       " 16,\n",
       " 17,\n",
       " 7,\n",
       " 7,\n",
       " 17,\n",
       " 5,\n",
       " 20,\n",
       " 5,\n",
       " 24,\n",
       " 9,\n",
       " 24,\n",
       " 20,\n",
       " 9,\n",
       " 4,\n",
       " 29,\n",
       " 5,\n",
       " 6,\n",
       " 19,\n",
       " 8,\n",
       " 4,\n",
       " 17,\n",
       " 4,\n",
       " 105,\n",
       " 4,\n",
       " 23,\n",
       " 21,\n",
       " 15,\n",
       " 20,\n",
       " 14,\n",
       " 5,\n",
       " 3,\n",
       " 5,\n",
       " 2,\n",
       " 7,\n",
       " 7,\n",
       " 5,\n",
       " 8,\n",
       " 3,\n",
       " 3,\n",
       " 2,\n",
       " 5,\n",
       " 16,\n",
       " 26,\n",
       " 5,\n",
       " 2,\n",
       " 2,\n",
       " 17,\n",
       " 3,\n",
       " 2,\n",
       " 2,\n",
       " 5,\n",
       " 6,\n",
       " 21,\n",
       " 3,\n",
       " 1,\n",
       " 4,\n",
       " 6,\n",
       " 5,\n",
       " 3,\n",
       " 4,\n",
       " 5,\n",
       " 21,\n",
       " 6,\n",
       " 4,\n",
       " 3,\n",
       " 7,\n",
       " 3,\n",
       " 2,\n",
       " 4,\n",
       " 5,\n",
       " 6,\n",
       " 15,\n",
       " 3,\n",
       " 20,\n",
       " 8,\n",
       " 4,\n",
       " 6,\n",
       " 6,\n",
       " 9,\n",
       " 4,\n",
       " 7,\n",
       " 3,\n",
       " 3,\n",
       " 3,\n",
       " 5,\n",
       " 4,\n",
       " 17,\n",
       " 2,\n",
       " 27,\n",
       " 6,\n",
       " 2,\n",
       " 17,\n",
       " 5,\n",
       " 13,\n",
       " 12,\n",
       " 15,\n",
       " 4,\n",
       " 8,\n",
       " 8,\n",
       " 20,\n",
       " 7,\n",
       " 1,\n",
       " 4,\n",
       " 20,\n",
       " 3,\n",
       " 4,\n",
       " 2,\n",
       " 4,\n",
       " 7,\n",
       " 4,\n",
       " 3,\n",
       " 2,\n",
       " 13,\n",
       " 2,\n",
       " 2,\n",
       " 13,\n",
       " 2,\n",
       " 4,\n",
       " 7,\n",
       " 7,\n",
       " 22,\n",
       " 9,\n",
       " 10,\n",
       " 6,\n",
       " 13,\n",
       " 13,\n",
       " 7,\n",
       " 9,\n",
       " 2,\n",
       " 2,\n",
       " 2,\n",
       " 3,\n",
       " 3,\n",
       " 5,\n",
       " 4,\n",
       " 5,\n",
       " 30,\n",
       " 8,\n",
       " 3,\n",
       " 2,\n",
       " 2,\n",
       " 28,\n",
       " 4,\n",
       " 8,\n",
       " 5,\n",
       " 2,\n",
       " 3,\n",
       " 3,\n",
       " 21,\n",
       " 17,\n",
       " 8,\n",
       " 2,\n",
       " 21,\n",
       " 8,\n",
       " 4,\n",
       " 2,\n",
       " 14,\n",
       " 4,\n",
       " 7,\n",
       " 2,\n",
       " 5,\n",
       " 12,\n",
       " 12,\n",
       " 11,\n",
       " ...]"
      ]
     },
     "execution_count": 144,
     "metadata": {},
     "output_type": "execute_result"
    }
   ],
   "source": [
    "[len(e) for e in d1['ent']]"
   ]
  },
  {
   "cell_type": "code",
   "execution_count": 151,
   "metadata": {
    "ExecuteTime": {
     "end_time": "2018-12-13T08:10:02.196764Z",
     "start_time": "2018-12-13T08:10:02.182559Z"
    }
   },
   "outputs": [
    {
     "data": {
      "text/plain": [
       "{'christopher cushing': 0.0,\n",
       " 'galaxy': 0.3149,\n",
       " 'galaxy note 7': 0.29295,\n",
       " 'galaxy note 7 fan edition': 0.5859,\n",
       " 'note 7s': 0.2990333333333333,\n",
       " 'reuters': 0.0,\n",
       " 's8': 0.5859,\n",
       " 'samsung': 0.21509999999999999,\n",
       " 'samsung electronics co ltd': 0.0,\n",
       " 'se young lee': 0.0,\n",
       " 'the note 7 in october': -0.4588,\n",
       " \"the note 7's\": 0.5859,\n",
       " 'the note 8': 0.0}"
      ]
     },
     "execution_count": 151,
     "metadata": {},
     "output_type": "execute_result"
    }
   ],
   "source": [
    "d1['ent_score_15'][60]"
   ]
  },
  {
   "cell_type": "code",
   "execution_count": null,
   "metadata": {
    "collapsed": true
   },
   "outputs": [],
   "source": []
  }
 ],
 "metadata": {
  "kernelspec": {
   "display_name": "Python 3",
   "language": "python",
   "name": "python3"
  },
  "language_info": {
   "codemirror_mode": {
    "name": "ipython",
    "version": 3
   },
   "file_extension": ".py",
   "mimetype": "text/x-python",
   "name": "python",
   "nbconvert_exporter": "python",
   "pygments_lexer": "ipython3",
   "version": "3.6.1"
  }
 },
 "nbformat": 4,
 "nbformat_minor": 2
}
