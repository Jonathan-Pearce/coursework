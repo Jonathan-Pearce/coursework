{
 "cells": [
  {
   "cell_type": "code",
   "execution_count": 1,
   "metadata": {},
   "outputs": [
    {
     "name": "stdout",
     "output_type": "stream",
     "text": [
      "(40000, 28, 28)\n"
     ]
    }
   ],
   "source": [
    "import pandas as pd\n",
    "import matplotlib.pyplot as plt\n",
    "import numpy as np\n",
    "\n",
    "\n",
    "train = pd.read_pickle('trainCrop.pkl')\n",
    "print(train.shape)\n",
    "train_labels = pd.read_csv('../data/train_labels.csv')\n",
    "test = pd.read_pickle('testCrop.pkl')\n"
   ]
  },
  {
   "cell_type": "code",
   "execution_count": 3,
   "metadata": {},
   "outputs": [
    {
     "name": "stdout",
     "output_type": "stream",
     "text": [
      "num_estimators: 10 accuracy: 0.86775 time_fit: 1.3050808906555176, time_predict: 0.0650780200958252\n",
      "num_estimators: 100 accuracy: 0.903625 time_fit: 12.10417103767395, time_predict: 0.41141581535339355\n",
      "num_estimators: 1000 accuracy: 0.909625 time_fit: 126.89363098144531, time_predict: 6.097709894180298\n",
      "num_neighbors: 3 accuracy: 0.87975 time_fit: 7.247467041015625 time_predict: 354.49348497390747\n",
      "num_neighbors: 5 accuracy: 0.88925 time_fit: 9.65110969543457 time_predict: 321.0266160964966\n",
      "num_neighbors: 10 accuracy: 0.887 time_fit: 7.678175926208496 time_predict: 335.2476291656494\n",
      "{'RandomForestClassifier': [(10, 0.86775, 1.3050808906555176, 0.0650780200958252), (100, 0.903625, 12.10417103767395, 0.41141581535339355), (1000, 0.909625, 126.89363098144531, 6.097709894180298)], 'KNearestNeighbours': [(3, 0.87975, 7.247467041015625, 354.49348497390747), (5, 0.88925, 9.65110969543457, 321.0266160964966), (10, 0.887, 7.678175926208496, 335.2476291656494)]}\n"
     ]
    }
   ],
   "source": [
    "from sklearn.model_selection import train_test_split\n",
    "from sklearn.metrics import accuracy_score\n",
    "from sklearn.ensemble import RandomForestClassifier\n",
    "from sklearn.svm import LinearSVC\n",
    "from sklearn.neighbors import KNeighborsClassifier\n",
    "import time\n",
    "\n",
    "X = np.array(train)\n",
    "y = np.array(train_labels['Category'])\n",
    "\n",
    "n, shape_X, shape_y = X.shape\n",
    "X_reshaped = X.reshape((n, shape_X*shape_y))\n",
    "\n",
    "X_train, X_validate, y_train, y_validate = train_test_split(X_reshaped, y, test_size = 0.2)\n",
    "\n",
    "rfc_results = []\n",
    "knn_results = []\n",
    "for k in [10, 100, 1000]:\n",
    "    rfc = RandomForestClassifier(n_estimators = k)\n",
    "    start = time.time()\n",
    "    rfc.fit(X_train, y_train)\n",
    "    end = time.time()\n",
    "    acc = accuracy_score(y_validate, rfc.predict(X_validate))\n",
    "    end_2 = time.time()\n",
    "    print('num_estimators: {} accuracy: {} time_fit: {}, time_predict: {}'.format(k, acc, end - start, end_2 - end))\n",
    "    rfc_results.append((k, acc, end - start, end_2 - end))\n",
    "    \n",
    "for k in [3, 5, 10]:\n",
    "    knn = KNeighborsClassifier(n_neighbors = k)\n",
    "    start = time.time()\n",
    "    knn.fit(X_train, y_train)\n",
    "    end = time.time()\n",
    "    acc = accuracy_score(y_validate, knn.predict(X_validate))\n",
    "    end_2 = time.time()\n",
    "    print('num_neighbors: {} accuracy: {} time_fit: {} time_predict: {}'.format(k, acc, end - start, end_2 - end))\n",
    "    knn_results.append((k, acc, end - start, end_2 - end))\n",
    "    \n",
    "results = {\n",
    "    'RandomForestClassifier': rfc_results,\n",
    "    'KNearestNeighbours': knn_results\n",
    "}\n",
    "\n",
    "print(results)"
   ]
  },
  {
   "cell_type": "code",
   "execution_count": 4,
   "metadata": {},
   "outputs": [
    {
     "ename": "NameError",
     "evalue": "name 'knn' is not defined",
     "output_type": "error",
     "traceback": [
      "\u001b[0;31m---------------------------------------------------------------------------\u001b[0m",
      "\u001b[0;31mNameError\u001b[0m                                 Traceback (most recent call last)",
      "\u001b[0;32m<ipython-input-4-fbde64a9aa60>\u001b[0m in \u001b[0;36m<module>\u001b[0;34m\u001b[0m\n\u001b[1;32m      5\u001b[0m \u001b[0mX_test_reshaped\u001b[0m \u001b[0;34m=\u001b[0m \u001b[0mX_test\u001b[0m\u001b[0;34m.\u001b[0m\u001b[0mreshape\u001b[0m\u001b[0;34m(\u001b[0m\u001b[0;34m(\u001b[0m\u001b[0mn_test\u001b[0m\u001b[0;34m,\u001b[0m \u001b[0mshape_X_test\u001b[0m\u001b[0;34m*\u001b[0m\u001b[0mshape_y_test\u001b[0m\u001b[0;34m)\u001b[0m\u001b[0;34m)\u001b[0m\u001b[0;34m\u001b[0m\u001b[0;34m\u001b[0m\u001b[0m\n\u001b[1;32m      6\u001b[0m \u001b[0;34m\u001b[0m\u001b[0m\n\u001b[0;32m----> 7\u001b[0;31m \u001b[0my_test_hat\u001b[0m \u001b[0;34m=\u001b[0m \u001b[0mknn\u001b[0m\u001b[0;34m.\u001b[0m\u001b[0mpredict\u001b[0m\u001b[0;34m(\u001b[0m\u001b[0mX_test_reshaped\u001b[0m\u001b[0;34m)\u001b[0m\u001b[0;34m\u001b[0m\u001b[0;34m\u001b[0m\u001b[0m\n\u001b[0m\u001b[1;32m      8\u001b[0m \u001b[0;34m\u001b[0m\u001b[0m\n\u001b[1;32m      9\u001b[0m \u001b[0mpredictions\u001b[0m \u001b[0;34m=\u001b[0m \u001b[0mpd\u001b[0m\u001b[0;34m.\u001b[0m\u001b[0mDataFrame\u001b[0m\u001b[0;34m(\u001b[0m\u001b[0;34m{\u001b[0m\u001b[0;34m'Id'\u001b[0m\u001b[0;34m:\u001b[0m \u001b[0mrange\u001b[0m\u001b[0;34m(\u001b[0m\u001b[0mlen\u001b[0m\u001b[0;34m(\u001b[0m\u001b[0mX_test\u001b[0m\u001b[0;34m)\u001b[0m\u001b[0;34m)\u001b[0m\u001b[0;34m,\u001b[0m \u001b[0;34m'Category'\u001b[0m\u001b[0;34m:\u001b[0m \u001b[0my_test_hat\u001b[0m\u001b[0;34m}\u001b[0m\u001b[0;34m)\u001b[0m\u001b[0;34m\u001b[0m\u001b[0;34m\u001b[0m\u001b[0m\n",
      "\u001b[0;31mNameError\u001b[0m: name 'knn' is not defined"
     ]
    }
   ],
   "source": [
    "import csv\n",
    "\n",
    "X_test = np.array(test)\n",
    "n_test, shape_X_test, shape_y_test = X_test.shape\n",
    "X_test_reshaped = X_test.reshape((n_test, shape_X_test*shape_y_test))\n",
    "\n",
    "y_test_hat = knn.predict(X_test_reshaped)\n",
    "\n",
    "predictions = pd.DataFrame({'Id': range(len(X_test)), 'Category': y_test_hat})\n",
    "\n",
    "print(predictions[:10])\n",
    "\n",
    "predictions.to_csv('predictions.csv')"
   ]
  },
  {
   "cell_type": "code",
   "execution_count": 42,
   "metadata": {},
   "outputs": [
    {
     "data": {
      "image/png": "[encoded data removed]",
      "text/plain": [
       "<Figure size 432x288 with 1 Axes>"
      ]
     },
     "metadata": {
      "needs_background": "light"
     },
     "output_type": "display_data"
    }
   ],
   "source": [
    "plt.imshow(test[7])\n",
    "plt.show()\n",
    "\n",
    "predictions.to_csv('predictions.csv', index=False)"
   ]
  },
  {
   "cell_type": "code",
   "execution_count": 3,
   "metadata": {
    "scrolled": true
   },
   "outputs": [
    {
     "data": {
      "image/png": "[encoded data removed]",
      "text/plain": [
       "<Figure size 432x288 with 1 Axes>"
      ]
     },
     "metadata": {
      "needs_background": "light"
     },
     "output_type": "display_data"
    }
   ],
   "source": [
    "plt.imshow(train[100])\n",
    "plt.show()"
   ]
  },
  {
   "cell_type": "code",
   "execution_count": null,
   "metadata": {},
   "outputs": [],
   "source": []
  }
 ],
 "metadata": {
  "kernelspec": {
   "display_name": "Python 3",
   "language": "python",
   "name": "python3"
  },
  "language_info": {
   "codemirror_mode": {
    "name": "ipython",
    "version": 3
   },
   "file_extension": ".py",
   "mimetype": "text/x-python",
   "name": "python",
   "nbconvert_exporter": "python",
   "pygments_lexer": "ipython3",
   "version": "3.5.2"
  }
 },
 "nbformat": 4,
 "nbformat_minor": 2
}
