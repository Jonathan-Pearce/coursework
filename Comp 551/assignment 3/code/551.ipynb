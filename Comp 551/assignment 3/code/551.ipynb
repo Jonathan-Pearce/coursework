{
  "nbformat": 4,
  "nbformat_minor": 0,
  "metadata": {
    "colab": {
      "name": "551.ipynb",
      "version": "0.3.2",
      "provenance": [],
      "private_outputs": true,
      "collapsed_sections": [],
      "toc_visible": true
    },
    "kernelspec": {
      "display_name": "Python 3",
      "name": "python3"
    }
  },
  "cells": [
    {
      "metadata": {
        "colab_type": "text",
        "id": "3wF5wszaj97Y"
      },
      "cell_type": "markdown",
      "source": [
        "# Comp 551 Project 3\n"
      ]
    },
    {
      "metadata": {
        "colab_type": "code",
        "id": "0trJmd6DjqBZ",
        "colab": {}
      },
      "cell_type": "code",
      "source": [
        "#Block 1\n",
        "from __future__ import absolute_import, division, print_function\n",
        "import tensorflow as tf\n",
        "import numpy as np\n",
        "import pandas as pd\n",
        "from sklearn.model_selection import train_test_split\n",
        "import matplotlib.pyplot as plt\n",
        "from keras.models import Sequential\n",
        "from keras.layers import Dense\n",
        "from keras.layers import Dropout\n",
        "from keras.layers import Flatten\n",
        "from keras.layers.convolutional import Conv2D\n",
        "from keras.layers.convolutional import MaxPooling2D\n",
        "import pickle"
      ],
      "execution_count": 0,
      "outputs": []
    },
    {
      "metadata": {
        "id": "MzhHH1gyZKd3",
        "colab_type": "code",
        "colab": {}
      },
      "cell_type": "code",
      "source": [
        "#2\n",
        "imSize = 28\n",
        "\n",
        "#need to upload data into google colab\n",
        "#input file\n",
        "data = pd.read_pickle('trainCrop.pkl')\n",
        "train_labels = pd.read_csv('train_labels.csv')\n",
        "labels = train_labels['Category']\n",
        "\n",
        "data.shape"
      ],
      "execution_count": 0,
      "outputs": []
    },
    {
      "metadata": {
        "id": "aXOeTx98jqhg",
        "colab_type": "code",
        "colab": {}
      },
      "cell_type": "code",
      "source": [
        "#3 - NOTE: only run when using LeNet-5 model\n",
        "\n",
        "#add extra dimension for Le-Net 5\n",
        "data = np.expand_dims(data, axis=3)\n",
        "\n",
        "#data.shape"
      ],
      "execution_count": 0,
      "outputs": []
    },
    {
      "metadata": {
        "id": "h43bR_vbACXa",
        "colab_type": "code",
        "colab": {}
      },
      "cell_type": "code",
      "source": [
        "#4\n",
        "#Divide into test and validation set\n",
        "X_train, X_valid, y_train, y_valid = train_test_split(data,labels,test_size=0.2, random_state=30)\n",
        "\n",
        "#scale pixel values to [0,1]\n",
        "X_train, X_valid = X_train / 255.0, X_valid / 255.0"
      ],
      "execution_count": 0,
      "outputs": []
    },
    {
      "metadata": {
        "id": "gg7Ql-U8PPPw",
        "colab_type": "code",
        "colab": {}
      },
      "cell_type": "code",
      "source": [
        "#5\n",
        "#2 Layer Neural Network\n",
        "model = tf.keras.models.Sequential([\n",
        "  tf.keras.layers.Flatten(input_shape=(28, 28)),\n",
        "  tf.keras.layers.Dense(512, activation=tf.nn.relu),\n",
        "  tf.keras.layers.Dropout(0.5),\n",
        "  tf.keras.layers.Dense(128, activation=tf.nn.relu),\n",
        "  tf.keras.layers.Dropout(0.5),\n",
        "  tf.keras.layers.Dense(10, activation=tf.nn.softmax)\n",
        "])\n",
        "\n",
        "model.compile(optimizer='adam',\n",
        "              loss='sparse_categorical_crossentropy',\n",
        "              metrics=['accuracy'])"
      ],
      "execution_count": 0,
      "outputs": []
    },
    {
      "metadata": {
        "id": "MepZAtfDI1Ta",
        "colab_type": "code",
        "colab": {}
      },
      "cell_type": "code",
      "source": [
        "#6\n",
        "#LeNet-5 CNN\n",
        "model = tf.keras.models.Sequential([\n",
        "    tf.keras.layers.ZeroPadding2D(2, input_shape=(28,28,1)),\n",
        "    tf.keras.layers.Conv2D(filters=6, kernel_size=(5, 5), activation='tanh', input_shape=(32,32,1)),\n",
        "    tf.keras.layers.AveragePooling2D(),\n",
        "    tf.keras.layers.Conv2D(filters=16, kernel_size=(5, 5), activation='tanh'),\n",
        "    tf.keras.layers.AveragePooling2D(),\n",
        "    tf.keras.layers.Flatten(),\n",
        "    tf.keras.layers.Dense(units=120, activation='tanh'),\n",
        "    tf.keras.layers.Dense(units=84, activation='tanh'),\n",
        "    tf.keras.layers.Dense(units=10, activation = 'softmax'),\n",
        "])\n",
        "\n",
        "model.compile(optimizer='adam',\n",
        "              loss='sparse_categorical_crossentropy',\n",
        "              metrics=['accuracy'])"
      ],
      "execution_count": 0,
      "outputs": []
    },
    {
      "metadata": {
        "colab_type": "code",
        "id": "F7dTAzgHDUh7",
        "colab": {}
      },
      "cell_type": "code",
      "source": [
        "#7\n",
        "#train model\n",
        "model.fit(X_train, y_train, epochs=13)\n",
        "#evalute on validation set\n",
        "model.evaluate(X_valid, y_valid)"
      ],
      "execution_count": 0,
      "outputs": []
    },
    {
      "metadata": {
        "id": "Jky44lVcKEwE",
        "colab_type": "code",
        "colab": {}
      },
      "cell_type": "code",
      "source": [
        "#8\n",
        "#Test set\n",
        "testData = pd.read_pickle('testCrop.pkl')\n",
        "\n",
        "#Apply same transformations to test set\n",
        "X_test = np.expand_dims(testData, axis=3)\n",
        "X_test = X_test / 255.0\n",
        "\n",
        "#Predict on test set\n",
        "results = model.predict(X_test)\n",
        "\n"
      ],
      "execution_count": 0,
      "outputs": []
    },
    {
      "metadata": {
        "id": "PEfTqvQKLoab",
        "colab_type": "code",
        "colab": {}
      },
      "cell_type": "code",
      "source": [
        "#9\n",
        "print(len(results))\n",
        "\n",
        "#output probability of each class\n",
        "\n",
        "#TODO: get index of max value, that will be what we classify the number as\n",
        "#Output to csv\n",
        "print(results[0])"
      ],
      "execution_count": 0,
      "outputs": []
    },
    {
      "metadata": {
        "id": "mUIObtzxL6vQ",
        "colab_type": "code",
        "colab": {}
      },
      "cell_type": "code",
      "source": [
        "#10\n",
        "plt.imshow(testData[0])\n",
        "\n",
        "preds = [[test_case.index(max(test_case)), max(test_case)] for test_case in results.tolist()]\n",
        "\n",
        "categories = [x[0] for x in preds]\n",
        "indices = range(len(preds))\n",
        "\n",
        "results_df = pd.DataFrame({'Id': indices, 'Category': categories})\n",
        "print(results_df[:10])\n",
        "\n",
        "results_df.to_csv('results.csv', index=False)"
      ],
      "execution_count": 0,
      "outputs": []
    }
  ]
}